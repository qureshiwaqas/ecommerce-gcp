{
 "cells": [
  {
   "cell_type": "markdown",
   "id": "13089acd-f6ca-4d29-bd5c-b49c88d1196a",
   "metadata": {},
   "source": [
    "**Step 1: Setting up the Spark Environment**  \n",
    "\n",
    "Ideally we use some cloud technology to load data directly onto the machine\n",
    "\n",
    "1. Deploying a Spark Cluster\n",
    "2. Store the data in HDFS\n",
    "- it requires downloading data onto to the local machine using\n",
    "> curl -L -o ~/Downloads/brazilian-ecommerce.zip\\\\ https://www.kaggle.com/api/v1/datasets/download/olistbr/brazilian-ecommerce\n",
    "\n",
    "- then moving that data to hadoop cluster using \n",
    "> hadoop put\n",
    "3. Lastly we go on with pyspark to run queries and run analysis\n"
   ]
  },
  {
   "cell_type": "code",
   "execution_count": 1,
   "id": "87a4b75c-9788-4a0d-b56d-7476670fe01b",
   "metadata": {
    "tags": []
   },
   "outputs": [
    {
     "name": "stderr",
     "output_type": "stream",
     "text": [
      "25/05/21 23:47:26 WARN SparkSession: Using an existing Spark session; only runtime SQL configurations will take effect.\n"
     ]
    }
   ],
   "source": [
    "from pyspark.sql import SparkSession\n",
    "\n",
    "spark = SparkSession.builder.appName('OlistData').getOrCreate()"
   ]
  },
  {
   "cell_type": "code",
   "execution_count": 2,
   "id": "169c2703-d5f7-48f5-82b7-cf224a4ebc48",
   "metadata": {
    "tags": []
   },
   "outputs": [
    {
     "data": {
      "text/html": [
       "\n",
       "            <div>\n",
       "                <p><b>SparkSession - hive</b></p>\n",
       "                \n",
       "        <div>\n",
       "            <p><b>SparkContext</b></p>\n",
       "\n",
       "            <p><a href=\"http://test-hadoop-cluster-de-bootcamp-m.us-central1-a.c.bustling-dynamo-459217-q5.internal:33849\">Spark UI</a></p>\n",
       "\n",
       "            <dl>\n",
       "              <dt>Version</dt>\n",
       "                <dd><code>v3.5.3</code></dd>\n",
       "              <dt>Master</dt>\n",
       "                <dd><code>yarn</code></dd>\n",
       "              <dt>AppName</dt>\n",
       "                <dd><code>PySparkShell</code></dd>\n",
       "            </dl>\n",
       "        </div>\n",
       "        \n",
       "            </div>\n",
       "        "
      ],
      "text/plain": [
       "<pyspark.sql.session.SparkSession at 0x7faef3ebadd0>"
      ]
     },
     "execution_count": 2,
     "metadata": {},
     "output_type": "execute_result"
    }
   ],
   "source": [
    "spark"
   ]
  },
  {
   "cell_type": "code",
   "execution_count": 6,
   "id": "47a8aa8b-e195-44a7-b069-2751270ea053",
   "metadata": {
    "tags": []
   },
   "outputs": [
    {
     "name": "stdout",
     "output_type": "stream",
     "text": [
      "Found 9 items\n",
      "-rw-r--r--   2 itswaqas14 hadoop    9033957 2025-05-21 23:39 /data/olist/olist_customers_dataset.csv\n",
      "-rw-r--r--   2 itswaqas14 hadoop   61273883 2025-05-21 23:39 /data/olist/olist_geolocation_dataset.csv\n",
      "-rw-r--r--   2 itswaqas14 hadoop   15438671 2025-05-21 23:39 /data/olist/olist_order_items_dataset.csv\n",
      "-rw-r--r--   2 itswaqas14 hadoop    5777138 2025-05-21 23:39 /data/olist/olist_order_payments_dataset.csv\n",
      "-rw-r--r--   2 itswaqas14 hadoop   14451670 2025-05-21 23:39 /data/olist/olist_order_reviews_dataset.csv\n",
      "-rw-r--r--   2 itswaqas14 hadoop   17654914 2025-05-21 23:39 /data/olist/olist_orders_dataset.csv\n",
      "-rw-r--r--   2 itswaqas14 hadoop    2379446 2025-05-21 23:39 /data/olist/olist_products_dataset.csv\n",
      "-rw-r--r--   2 itswaqas14 hadoop     174703 2025-05-21 23:39 /data/olist/olist_sellers_dataset.csv\n",
      "-rw-r--r--   2 itswaqas14 hadoop       2613 2025-05-21 23:39 /data/olist/product_category_name_translation.csv\n"
     ]
    }
   ],
   "source": [
    "# accessing our files on hadoop\n",
    "!hadoop fs -ls /data/olist"
   ]
  },
  {
   "cell_type": "code",
   "execution_count": 8,
   "id": "9d0c8d49-5ad5-4d17-8ff0-5b93ce5b4c68",
   "metadata": {
    "tags": []
   },
   "outputs": [],
   "source": [
    "hdfs_path = '/data/olist/'"
   ]
  },
  {
   "cell_type": "code",
   "execution_count": 9,
   "id": "abc6e762-2238-449d-bd37-2695f82cd035",
   "metadata": {
    "tags": []
   },
   "outputs": [
    {
     "name": "stderr",
     "output_type": "stream",
     "text": [
      "                                                                                \r"
     ]
    }
   ],
   "source": [
    "customers_df = spark.read.csv(hdfs_path + 'olist_customers_dataset.csv', inferSchema='true', header='true')"
   ]
  },
  {
   "cell_type": "code",
   "execution_count": 10,
   "id": "dc98b3ab-e62c-4a29-9db7-cef8e24aee3a",
   "metadata": {
    "tags": []
   },
   "outputs": [
    {
     "name": "stdout",
     "output_type": "stream",
     "text": [
      "+--------------------+--------------------+------------------------+--------------------+--------------+\n",
      "|         customer_id|  customer_unique_id|customer_zip_code_prefix|       customer_city|customer_state|\n",
      "+--------------------+--------------------+------------------------+--------------------+--------------+\n",
      "|06b8999e2fba1a1fb...|861eff4711a542e4b...|                   14409|              franca|            SP|\n",
      "|18955e83d337fd6b2...|290c77bc529b7ac93...|                    9790|sao bernardo do c...|            SP|\n",
      "|4e7b3e00288586ebd...|060e732b5b29e8181...|                    1151|           sao paulo|            SP|\n",
      "|b2b6027bc5c5109e5...|259dac757896d24d7...|                    8775|     mogi das cruzes|            SP|\n",
      "|4f2d8ab171c80ec83...|345ecd01c38d18a90...|                   13056|            campinas|            SP|\n",
      "|879864dab9bc30475...|4c93744516667ad3b...|                   89254|      jaragua do sul|            SC|\n",
      "|fd826e7cf63160e53...|addec96d2e059c80c...|                    4534|           sao paulo|            SP|\n",
      "|5e274e7a0c3809e14...|57b2a98a409812fe9...|                   35182|             timoteo|            MG|\n",
      "|5adf08e34b2e99398...|1175e95fb47ddff9d...|                   81560|            curitiba|            PR|\n",
      "|4b7139f34592b3a31...|9afe194fb833f79e3...|                   30575|      belo horizonte|            MG|\n",
      "+--------------------+--------------------+------------------------+--------------------+--------------+\n",
      "only showing top 10 rows\n",
      "\n"
     ]
    }
   ],
   "source": [
    "customers_df.show(10)"
   ]
  },
  {
   "cell_type": "code",
   "execution_count": 12,
   "id": "e77e98c9-b266-424a-8802-1b68774646a0",
   "metadata": {
    "tags": []
   },
   "outputs": [
    {
     "name": "stderr",
     "output_type": "stream",
     "text": [
      "                                                                                \r"
     ]
    }
   ],
   "source": [
    "geolocation_df = spark.read.csv(hdfs_path + 'olist_geolocation_dataset.csv', inferSchema='true', header='true')\n",
    "order_items_df = spark.read.csv(hdfs_path + 'olist_order_items_dataset.csv', inferSchema='true', header='true')\n",
    "order_payments_df = spark.read.csv(hdfs_path + 'olist_order_payments_dataset.csv', inferSchema='true', header='true')\n",
    "order_reviews_df = spark.read.csv(hdfs_path + 'olist_order_reviews_dataset.csv', inferSchema='true', header='true')\n",
    "orders_df = spark.read.csv(hdfs_path + 'olist_orders_dataset.csv', inferSchema='true', header='true')\n",
    "products_df = spark.read.csv(hdfs_path + 'olist_products_dataset.csv', inferSchema='true', header='true')\n",
    "sellers_df = spark.read.csv(hdfs_path + 'olist_sellers_dataset.csv', inferSchema='true', header='true')\n",
    "product_category_translation_df = spark.read.csv(hdfs_path + 'product_category_name_translation.csv', inferSchema='true', header='true')"
   ]
  },
  {
   "cell_type": "code",
   "execution_count": 13,
   "id": "c35032da-189d-422e-986c-4d670f1108d9",
   "metadata": {
    "tags": []
   },
   "outputs": [
    {
     "name": "stdout",
     "output_type": "stream",
     "text": [
      "root\n",
      " |-- customer_id: string (nullable = true)\n",
      " |-- customer_unique_id: string (nullable = true)\n",
      " |-- customer_zip_code_prefix: integer (nullable = true)\n",
      " |-- customer_city: string (nullable = true)\n",
      " |-- customer_state: string (nullable = true)\n",
      "\n"
     ]
    }
   ],
   "source": [
    "customers_df.printSchema()"
   ]
  },
  {
   "cell_type": "code",
   "execution_count": 14,
   "id": "e1e9fce0-b98a-4082-9a20-a86472015ab9",
   "metadata": {
    "tags": []
   },
   "outputs": [
    {
     "name": "stdout",
     "output_type": "stream",
     "text": [
      "root\n",
      " |-- order_id: string (nullable = true)\n",
      " |-- customer_id: string (nullable = true)\n",
      " |-- order_status: string (nullable = true)\n",
      " |-- order_purchase_timestamp: timestamp (nullable = true)\n",
      " |-- order_approved_at: timestamp (nullable = true)\n",
      " |-- order_delivered_carrier_date: timestamp (nullable = true)\n",
      " |-- order_delivered_customer_date: timestamp (nullable = true)\n",
      " |-- order_estimated_delivery_date: timestamp (nullable = true)\n",
      "\n"
     ]
    }
   ],
   "source": [
    "orders_df.printSchema()"
   ]
  },
  {
   "cell_type": "code",
   "execution_count": 17,
   "id": "e45d6651-d036-452e-a50c-f46c1505ce64",
   "metadata": {
    "tags": []
   },
   "outputs": [
    {
     "name": "stdout",
     "output_type": "stream",
     "text": [
      "Customers : 99441 rows\n",
      "Orders : 99441 rows\n",
      "Products : 32951 rows\n",
      "Sellers : 3095 rows\n"
     ]
    }
   ],
   "source": [
    "# checking for data leakage\n",
    "print(f'Customers : {customers_df.count()} rows')\n",
    "print(f'Orders : {orders_df.count()} rows')\n",
    "print(f'Products : {products_df.count()} rows')\n",
    "print(f'Sellers : {sellers_df.count()} rows')\n",
    "\n",
    "# cross checked the number of rows on the original data source(kaggle) and verified if both are same"
   ]
  },
  {
   "cell_type": "markdown",
   "id": "5e173b1e-aa07-46ae-82c7-30fe8d8d4a62",
   "metadata": {},
   "source": [
    "## Figuring out NULL or duplicate values for each major dataset"
   ]
  },
  {
   "cell_type": "markdown",
   "id": "bc379fbe-08ab-49fb-897c-36664c278030",
   "metadata": {
    "tags": []
   },
   "source": [
    "### null or empty values"
   ]
  },
  {
   "cell_type": "code",
   "execution_count": 19,
   "id": "0dad8375-facf-4761-aa67-383cb2ccacfa",
   "metadata": {
    "tags": []
   },
   "outputs": [
    {
     "name": "stdout",
     "output_type": "stream",
     "text": [
      "+-----------+------------------+------------------------+-------------+--------------+\n",
      "|customer_id|customer_unique_id|customer_zip_code_prefix|customer_city|customer_state|\n",
      "+-----------+------------------+------------------------+-------------+--------------+\n",
      "|          0|                 0|                       0|            0|             0|\n",
      "+-----------+------------------+------------------------+-------------+--------------+\n",
      "\n"
     ]
    }
   ],
   "source": [
    "# checking NULL or duplicate\n",
    "\n",
    "from pyspark.sql.functions import col, when, count\n",
    "\n",
    "customers_df.select([\n",
    "    count(when((col(c).isNull()) | (col(c) == 0), 1)).alias(c)\n",
    "    for c in customers_df.columns\n",
    "]).show()\n"
   ]
  },
  {
   "cell_type": "code",
   "execution_count": 23,
   "id": "a49c2cbb-71ae-468e-b006-c562d285cfed",
   "metadata": {
    "tags": []
   },
   "outputs": [
    {
     "name": "stdout",
     "output_type": "stream",
     "text": [
      "+--------+-----------+------------+------------------------+-----------------+----------------------------+-----------------------------+-----------------------------+\n",
      "|order_id|customer_id|order_status|order_purchase_timestamp|order_approved_at|order_delivered_carrier_date|order_delivered_customer_date|order_estimated_delivery_date|\n",
      "+--------+-----------+------------+------------------------+-----------------+----------------------------+-----------------------------+-----------------------------+\n",
      "|       0|          0|           0|                       0|              160|                        1783|                         2965|                            0|\n",
      "+--------+-----------+------------+------------------------+-----------------+----------------------------+-----------------------------+-----------------------------+\n",
      "\n"
     ]
    }
   ],
   "source": [
    "orders_df.select([\n",
    "    count(when((col(c).isNull()), 1)).alias(c)\n",
    "    for c in orders_df.columns\n",
    "]).show()"
   ]
  },
  {
   "cell_type": "code",
   "execution_count": 25,
   "id": "74fc4391-e7d8-4065-b908-34d68f0efe02",
   "metadata": {
    "tags": []
   },
   "outputs": [
    {
     "name": "stdout",
     "output_type": "stream",
     "text": [
      "+---------+----------------------+-----------+------------+\n",
      "|seller_id|seller_zip_code_prefix|seller_city|seller_state|\n",
      "+---------+----------------------+-----------+------------+\n",
      "|        0|                     0|          0|           0|\n",
      "+---------+----------------------+-----------+------------+\n",
      "\n"
     ]
    }
   ],
   "source": [
    "sellers_df.select([\n",
    "    count(when((col(c).isNull()), 1)).alias(c)\n",
    "    for c in sellers_df.columns\n",
    "]).show()"
   ]
  },
  {
   "cell_type": "code",
   "execution_count": 26,
   "id": "eb9bc3fd-b169-475c-8df1-fa307345b6c8",
   "metadata": {
    "tags": []
   },
   "outputs": [
    {
     "name": "stdout",
     "output_type": "stream",
     "text": [
      "+----------+---------------------+-------------------+--------------------------+------------------+----------------+-----------------+-----------------+----------------+\n",
      "|product_id|product_category_name|product_name_lenght|product_description_lenght|product_photos_qty|product_weight_g|product_length_cm|product_height_cm|product_width_cm|\n",
      "+----------+---------------------+-------------------+--------------------------+------------------+----------------+-----------------+-----------------+----------------+\n",
      "|         0|                  610|                610|                       610|               610|               2|                2|                2|               2|\n",
      "+----------+---------------------+-------------------+--------------------------+------------------+----------------+-----------------+-----------------+----------------+\n",
      "\n"
     ]
    }
   ],
   "source": [
    "products_df.select([\n",
    "    count(when((col(c).isNull()), 1)).alias(c)\n",
    "    for c in products_df.columns\n",
    "]).show()"
   ]
  },
  {
   "cell_type": "markdown",
   "id": "84f4ed4e-60ae-4460-9751-4f0e11435369",
   "metadata": {
    "tags": []
   },
   "source": [
    "### duplicate values"
   ]
  },
  {
   "cell_type": "code",
   "execution_count": 27,
   "id": "9e58cb6f-1053-45aa-8606-43f7908a3841",
   "metadata": {
    "tags": []
   },
   "outputs": [
    {
     "name": "stderr",
     "output_type": "stream",
     "text": [
      "[Stage 75:=============================>                            (1 + 1) / 2]\r"
     ]
    },
    {
     "name": "stdout",
     "output_type": "stream",
     "text": [
      "+-----------+-----+\n",
      "|customer_id|count|\n",
      "+-----------+-----+\n",
      "+-----------+-----+\n",
      "\n"
     ]
    },
    {
     "name": "stderr",
     "output_type": "stream",
     "text": [
      "                                                                                \r"
     ]
    }
   ],
   "source": [
    "customers_df.groupBy('customer_id').count().filter('count>1').show()"
   ]
  },
  {
   "cell_type": "code",
   "execution_count": 28,
   "id": "82cc8627-e73e-4541-9358-ef3db9dc6acb",
   "metadata": {
    "tags": []
   },
   "outputs": [
    {
     "name": "stdout",
     "output_type": "stream",
     "text": [
      "+--------+-----+\n",
      "|order_id|count|\n",
      "+--------+-----+\n",
      "+--------+-----+\n",
      "\n"
     ]
    }
   ],
   "source": [
    "orders_df.groupBy('order_id').count().filter('count>1').show()"
   ]
  },
  {
   "cell_type": "code",
   "execution_count": 29,
   "id": "f7ba9198-1572-4683-9650-2b303b8b18b3",
   "metadata": {
    "tags": []
   },
   "outputs": [
    {
     "name": "stdout",
     "output_type": "stream",
     "text": [
      "+----------+-----+\n",
      "|product_id|count|\n",
      "+----------+-----+\n",
      "+----------+-----+\n",
      "\n"
     ]
    }
   ],
   "source": [
    "products_df.groupBy('product_id').count().filter('count>1').show()"
   ]
  },
  {
   "cell_type": "code",
   "execution_count": 30,
   "id": "21bd2d1c-4525-4734-8c4a-fd1ff7ac9f39",
   "metadata": {
    "tags": []
   },
   "outputs": [
    {
     "name": "stdout",
     "output_type": "stream",
     "text": [
      "+---------+-----+\n",
      "|seller_id|count|\n",
      "+---------+-----+\n",
      "+---------+-----+\n",
      "\n"
     ]
    }
   ],
   "source": [
    "sellers_df.groupBy('seller_id').count().filter('count>1').show()"
   ]
  },
  {
   "cell_type": "markdown",
   "id": "dbb11a47-a4b4-4964-afa7-d6a7d5ffe41e",
   "metadata": {
    "tags": []
   },
   "source": [
    "## Doing EDA"
   ]
  },
  {
   "cell_type": "code",
   "execution_count": 35,
   "id": "6c51b59b-4ac3-4abc-9258-27bd35769111",
   "metadata": {
    "tags": []
   },
   "outputs": [
    {
     "name": "stdout",
     "output_type": "stream",
     "text": [
      "+--------------+-----+\n",
      "|customer_state|count|\n",
      "+--------------+-----+\n",
      "|            SP|41746|\n",
      "|            RJ|12852|\n",
      "|            MG|11635|\n",
      "|            RS| 5466|\n",
      "|            PR| 5045|\n",
      "|            SC| 3637|\n",
      "|            BA| 3380|\n",
      "|            DF| 2140|\n",
      "|            ES| 2033|\n",
      "|            GO| 2020|\n",
      "|            PE| 1652|\n",
      "|            CE| 1336|\n",
      "|            PA|  975|\n",
      "|            MT|  907|\n",
      "|            MA|  747|\n",
      "|            MS|  715|\n",
      "|            PB|  536|\n",
      "|            PI|  495|\n",
      "|            RN|  485|\n",
      "|            AL|  413|\n",
      "+--------------+-----+\n",
      "only showing top 20 rows\n",
      "\n"
     ]
    }
   ],
   "source": [
    "# customer distribution by state\n",
    "customers_df.groupBy('customer_state').count().orderBy('count', ascending = False).show()"
   ]
  },
  {
   "cell_type": "code",
   "execution_count": 37,
   "id": "98655c5c-4437-43f0-8c11-e6377abaf8e1",
   "metadata": {
    "tags": []
   },
   "outputs": [
    {
     "name": "stdout",
     "output_type": "stream",
     "text": [
      "+------------+-----+\n",
      "|seller_state|count|\n",
      "+------------+-----+\n",
      "|          SP| 1849|\n",
      "|          PR|  349|\n",
      "|          MG|  244|\n",
      "|          SC|  190|\n",
      "|          RJ|  171|\n",
      "+------------+-----+\n",
      "only showing top 5 rows\n",
      "\n"
     ]
    }
   ],
   "source": [
    "# seller distribution by state\n",
    "sellers_df.groupBy('seller_state').count().orderBy('count', ascending = False).show(5)"
   ]
  },
  {
   "cell_type": "code",
   "execution_count": 40,
   "id": "e5d689e3-228c-4f2f-9c85-4d60b3e8aa5a",
   "metadata": {
    "tags": []
   },
   "outputs": [
    {
     "name": "stdout",
     "output_type": "stream",
     "text": [
      "+------------+-----+\n",
      "|order_status|count|\n",
      "+------------+-----+\n",
      "|   delivered|96478|\n",
      "|     shipped| 1107|\n",
      "|    canceled|  625|\n",
      "| unavailable|  609|\n",
      "|    invoiced|  314|\n",
      "|  processing|  301|\n",
      "|     created|    5|\n",
      "|    approved|    2|\n",
      "+------------+-----+\n",
      "\n"
     ]
    }
   ],
   "source": [
    "# status of order\n",
    "orders_df.groupBy('order_status').count().orderBy('count', ascending = False).show()"
   ]
  },
  {
   "cell_type": "code",
   "execution_count": 39,
   "id": "426a417c-5939-46c4-ac6c-90414d4c54a3",
   "metadata": {
    "tags": []
   },
   "outputs": [
    {
     "name": "stdout",
     "output_type": "stream",
     "text": [
      "+---------------------+-----+\n",
      "|product_category_name|count|\n",
      "+---------------------+-----+\n",
      "|      cama_mesa_banho| 3029|\n",
      "|        esporte_lazer| 2867|\n",
      "|     moveis_decoracao| 2657|\n",
      "|         beleza_saude| 2444|\n",
      "| utilidades_domest...| 2335|\n",
      "+---------------------+-----+\n",
      "only showing top 5 rows\n",
      "\n"
     ]
    }
   ],
   "source": [
    "# top 5 product categories\n",
    "products_df.groupBy('product_category_name').count().orderBy('count', ascending = False).show(5)"
   ]
  },
  {
   "cell_type": "code",
   "execution_count": 41,
   "id": "7ffa7999-6526-4dc2-9937-f7502c4d8e8c",
   "metadata": {
    "tags": []
   },
   "outputs": [
    {
     "name": "stdout",
     "output_type": "stream",
     "text": [
      "+------------+-----+\n",
      "|payment_type|count|\n",
      "+------------+-----+\n",
      "| credit_card|76795|\n",
      "|      boleto|19784|\n",
      "|     voucher| 5775|\n",
      "|  debit_card| 1529|\n",
      "| not_defined|    3|\n",
      "+------------+-----+\n",
      "\n"
     ]
    }
   ],
   "source": [
    "# check most popular payment type\n",
    "order_payments_df.groupBy('payment_type').count().orderBy('count', ascending = False).show(5)"
   ]
  },
  {
   "cell_type": "code",
   "execution_count": 53,
   "id": "83952c28-2bdd-45e7-b81b-8a8932af1b85",
   "metadata": {
    "tags": []
   },
   "outputs": [
    {
     "name": "stdout",
     "output_type": "stream",
     "text": [
      "+--------------------+-----+\n",
      "|          product_id|count|\n",
      "+--------------------+-----+\n",
      "|aca2eb7d00ea1a7b8...|  527|\n",
      "|99a4788cb24856965...|  488|\n",
      "|422879e10f4668299...|  484|\n",
      "|389d119b48cf3043d...|  392|\n",
      "|368c6c730842d7801...|  388|\n",
      "|53759a2ecddad2bb8...|  373|\n",
      "|d1c427060a0f73f6b...|  343|\n",
      "|53b36df67ebb7c415...|  323|\n",
      "|154e7e31ebfa09220...|  281|\n",
      "|3dd2a17168ec895c7...|  274|\n",
      "+--------------------+-----+\n",
      "only showing top 10 rows\n",
      "\n"
     ]
    }
   ],
   "source": [
    "# check product with highest order\n",
    "from pyspark.sql.functions import sum\n",
    "\n",
    "most_ordered_products = order_items_df.groupBy('product_id').count().orderBy('count', ascending = False).show(10)"
   ]
  },
  {
   "cell_type": "code",
   "execution_count": 46,
   "id": "2f8f5ae9-62d6-404a-9665-58a7bfe52732",
   "metadata": {
    "tags": []
   },
   "outputs": [
    {
     "name": "stdout",
     "output_type": "stream",
     "text": [
      "+--------------------+------------------+\n",
      "|          product_id|       total_sales|\n",
      "+--------------------+------------------+\n",
      "|bb50f2e236e5eea01...|           63885.0|\n",
      "|6cdd53843498f9289...| 54730.20000000005|\n",
      "|d6160fb7873f18409...|48899.340000000004|\n",
      "|d1c427060a0f73f6b...| 47214.51000000006|\n",
      "|99a4788cb24856965...|43025.560000000085|\n",
      "|3dd2a17168ec895c7...| 41082.60000000005|\n",
      "|25c38557cf793876c...| 38907.32000000001|\n",
      "|5f504b3a1c75b73d6...|37733.899999999994|\n",
      "|53b36df67ebb7c415...| 37683.42000000001|\n",
      "|aca2eb7d00ea1a7b8...| 37608.90000000007|\n",
      "+--------------------+------------------+\n",
      "only showing top 10 rows\n",
      "\n"
     ]
    }
   ],
   "source": [
    "# check product with highest sales\n",
    "from pyspark.sql.functions import sum\n",
    "\n",
    "top_revenue_products = order_items_df.groupBy('product_id').agg(sum('price').alias('total_sales'))\n",
    "top_revenue_products.orderBy('total_sales', ascending = False).show(10)"
   ]
  },
  {
   "cell_type": "code",
   "execution_count": 54,
   "id": "770ed185-2341-4d7f-9e9b-45682d9db131",
   "metadata": {
    "tags": []
   },
   "outputs": [
    {
     "name": "stdout",
     "output_type": "stream",
     "text": [
      "+--------------------+--------------------+------------+------------------------+-------------------+----------------------------+-----------------------------+-----------------------------+-------------+\n",
      "|            order_id|         customer_id|order_status|order_purchase_timestamp|  order_approved_at|order_delivered_carrier_date|order_delivered_customer_date|order_estimated_delivery_date|delivery_days|\n",
      "+--------------------+--------------------+------------+------------------------+-------------------+----------------------------+-----------------------------+-----------------------------+-------------+\n",
      "|ca07593549f1816d2...|75683a92331068e2d...|   delivered|     2017-02-21 23:31:27|2017-02-23 02:35:15|         2017-03-08 13:47:46|          2017-09-19 14:36:39|          2017-03-22 00:00:00|          210|\n",
      "|1b3190b2dfa9d789e...|d306426abe5fca15e...|   delivered|     2018-02-23 14:57:35|2018-02-23 15:16:14|         2018-02-26 18:49:07|          2018-09-19 23:24:07|          2018-03-15 00:00:00|          208|\n",
      "|440d0d17af552815d...|7815125148cfa1e8c...|   delivered|     2017-03-07 23:59:51|2017-03-09 01:11:33|         2017-03-15 13:00:08|          2017-09-19 15:12:50|          2017-04-07 00:00:00|          196|\n",
      "|2fb597c2f772eca01...|217906bc11a32c1e4...|   delivered|     2017-03-08 18:09:02|2017-03-08 18:09:02|         2017-03-13 08:54:02|          2017-09-19 14:33:17|          2017-04-17 00:00:00|          195|\n",
      "|285ab9426d6982034...|9cf2c3fa2632cee74...|   delivered|     2017-03-08 22:47:40|2017-03-08 22:47:40|         2017-03-09 08:53:20|          2017-09-19 14:00:04|          2017-04-06 00:00:00|          195|\n",
      "|0f4519c5f1c541dde...|1a8a4a30dc2969767...|   delivered|     2017-03-09 13:26:57|2017-03-09 13:26:57|         2017-03-22 05:28:14|          2017-09-19 14:38:21|          2017-04-11 00:00:00|          194|\n",
      "|47b40429ed8cce3ae...|cb2caaaead400c973...|   delivered|     2018-01-03 09:44:01|2018-01-03 10:31:15|         2018-02-06 01:48:28|          2018-07-13 20:51:31|          2018-01-19 00:00:00|          191|\n",
      "|2fe324febf907e3ea...|65b14237885b3972e...|   delivered|     2017-03-13 20:17:10|2017-03-13 20:17:10|         2017-03-17 07:23:53|          2017-09-19 17:00:07|          2017-04-05 00:00:00|          190|\n",
      "|2d7561026d542c8db...|8199345f57c6d1cbe...|   delivered|     2017-03-15 11:24:27|2017-03-15 11:24:27|         2017-03-16 09:29:16|          2017-09-19 14:38:18|          2017-04-13 00:00:00|          188|\n",
      "|c27815f7e3dd0b926...|f85e9ec0719b16dc4...|   delivered|     2017-03-15 23:23:17|2017-03-15 23:23:17|         2017-03-21 14:50:25|          2017-09-19 17:14:25|          2017-04-10 00:00:00|          188|\n",
      "+--------------------+--------------------+------------+------------------------+-------------------+----------------------------+-----------------------------+-----------------------------+-------------+\n",
      "only showing top 10 rows\n",
      "\n"
     ]
    }
   ],
   "source": [
    "# delivery time (from purchase date to actual delivery date)\n",
    "from pyspark.sql.functions import datediff\n",
    "\n",
    "orders_df = orders_df.withColumn('delivery_days', datediff(col('order_delivered_customer_date'),col('order_purchase_timestamp')))\n",
    "orders_df.orderBy('delivery_days', ascending = False).show(10)"
   ]
  },
  {
   "cell_type": "code",
   "execution_count": 55,
   "id": "b5c702b3-a367-4771-bb44-ff3e5968be4f",
   "metadata": {
    "tags": []
   },
   "outputs": [
    {
     "name": "stdout",
     "output_type": "stream",
     "text": [
      "+--------------------+--------------------+------------+------------------------+-------------------+----------------------------+-----------------------------+-----------------------------+-------------+-----+\n",
      "|            order_id|         customer_id|order_status|order_purchase_timestamp|  order_approved_at|order_delivered_carrier_date|order_delivered_customer_date|order_estimated_delivery_date|delivery_days|delay|\n",
      "+--------------------+--------------------+------------+------------------------+-------------------+----------------------------+-----------------------------+-----------------------------+-------------+-----+\n",
      "|ca07593549f1816d2...|75683a92331068e2d...|   delivered|     2017-02-21 23:31:27|2017-02-23 02:35:15|         2017-03-08 13:47:46|          2017-09-19 14:36:39|          2017-03-22 00:00:00|          210|  210|\n",
      "|1b3190b2dfa9d789e...|d306426abe5fca15e...|   delivered|     2018-02-23 14:57:35|2018-02-23 15:16:14|         2018-02-26 18:49:07|          2018-09-19 23:24:07|          2018-03-15 00:00:00|          208|  208|\n",
      "|440d0d17af552815d...|7815125148cfa1e8c...|   delivered|     2017-03-07 23:59:51|2017-03-09 01:11:33|         2017-03-15 13:00:08|          2017-09-19 15:12:50|          2017-04-07 00:00:00|          196|  196|\n",
      "|2fb597c2f772eca01...|217906bc11a32c1e4...|   delivered|     2017-03-08 18:09:02|2017-03-08 18:09:02|         2017-03-13 08:54:02|          2017-09-19 14:33:17|          2017-04-17 00:00:00|          195|  195|\n",
      "|285ab9426d6982034...|9cf2c3fa2632cee74...|   delivered|     2017-03-08 22:47:40|2017-03-08 22:47:40|         2017-03-09 08:53:20|          2017-09-19 14:00:04|          2017-04-06 00:00:00|          195|  195|\n",
      "|0f4519c5f1c541dde...|1a8a4a30dc2969767...|   delivered|     2017-03-09 13:26:57|2017-03-09 13:26:57|         2017-03-22 05:28:14|          2017-09-19 14:38:21|          2017-04-11 00:00:00|          194|  194|\n",
      "|47b40429ed8cce3ae...|cb2caaaead400c973...|   delivered|     2018-01-03 09:44:01|2018-01-03 10:31:15|         2018-02-06 01:48:28|          2018-07-13 20:51:31|          2018-01-19 00:00:00|          191|  191|\n",
      "|2fe324febf907e3ea...|65b14237885b3972e...|   delivered|     2017-03-13 20:17:10|2017-03-13 20:17:10|         2017-03-17 07:23:53|          2017-09-19 17:00:07|          2017-04-05 00:00:00|          190|  190|\n",
      "|2d7561026d542c8db...|8199345f57c6d1cbe...|   delivered|     2017-03-15 11:24:27|2017-03-15 11:24:27|         2017-03-16 09:29:16|          2017-09-19 14:38:18|          2017-04-13 00:00:00|          188|  188|\n",
      "|c27815f7e3dd0b926...|f85e9ec0719b16dc4...|   delivered|     2017-03-15 23:23:17|2017-03-15 23:23:17|         2017-03-21 14:50:25|          2017-09-19 17:14:25|          2017-04-10 00:00:00|          188|  188|\n",
      "+--------------------+--------------------+------------+------------------------+-------------------+----------------------------+-----------------------------+-----------------------------+-------------+-----+\n",
      "only showing top 10 rows\n",
      "\n"
     ]
    }
   ],
   "source": [
    "# delay time (between actual and expected delivery date)\n",
    "\n",
    "orders_df = orders_df.withColumn('delay', datediff(col('order_delivered_customer_date'),col('order_purchase_timestamp')))\n",
    "orders_df.orderBy('delay', ascending = False).show(10)"
   ]
  },
  {
   "cell_type": "code",
   "execution_count": 64,
   "id": "12a6d19e-2744-410e-86f4-a771f85b9d07",
   "metadata": {
    "tags": []
   },
   "outputs": [
    {
     "name": "stdout",
     "output_type": "stream",
     "text": [
      "+-----+-----+\n",
      "|month|count|\n",
      "+-----+-----+\n",
      "|   01| 8069|\n",
      "|   02| 8508|\n",
      "|   03| 9893|\n",
      "|   04| 9343|\n",
      "|   05|10573|\n",
      "|   06| 9412|\n",
      "|   07|10318|\n",
      "|   08|10843|\n",
      "|   09| 4305|\n",
      "|   10| 4959|\n",
      "|   11| 7544|\n",
      "|   12| 5674|\n",
      "+-----+-----+\n",
      "\n"
     ]
    }
   ],
   "source": [
    "# montlhy shopping trend\n",
    "from pyspark.sql.functions import date_format\n",
    "orders_df = orders_df.withColumn(\"month\", date_format(col(\"order_purchase_timestamp\"), \"MM\"))\n",
    "orders_df.groupBy(\"month\").count().orderBy(col('month')).show(12)"
   ]
  },
  {
   "cell_type": "code",
   "execution_count": 67,
   "id": "0c1e7c58-1244-4a4a-836d-c0ab13ee6ad1",
   "metadata": {
    "tags": []
   },
   "outputs": [
    {
     "name": "stdout",
     "output_type": "stream",
     "text": [
      "+--------------+----------------+\n",
      "|customer_state|unique_customers|\n",
      "+--------------+----------------+\n",
      "|            SP|           41746|\n",
      "|            RJ|           12852|\n",
      "|            MG|           11635|\n",
      "|            RS|            5466|\n",
      "|            PR|            5045|\n",
      "|            SC|            3637|\n",
      "|            BA|            3380|\n",
      "|            DF|            2140|\n",
      "|            ES|            2033|\n",
      "|            GO|            2020|\n",
      "|            PE|            1652|\n",
      "|            CE|            1336|\n",
      "|            PA|             975|\n",
      "|            MT|             907|\n",
      "|            MA|             747|\n",
      "|            MS|             715|\n",
      "|            PB|             536|\n",
      "|            PI|             495|\n",
      "|            RN|             485|\n",
      "|            AL|             413|\n",
      "+--------------+----------------+\n",
      "only showing top 20 rows\n",
      "\n"
     ]
    }
   ],
   "source": [
    "# customer base from each state\n",
    "from pyspark.sql.functions import countDistinct\n",
    "customers_df.groupBy('customer_state').agg(countDistinct('customer_id').alias('unique_customers')).orderBy('unique_customers', ascending = False).show()"
   ]
  },
  {
   "cell_type": "code",
   "execution_count": 70,
   "id": "e4710881-0651-44e9-aa30-459575940f5b",
   "metadata": {
    "tags": []
   },
   "outputs": [
    {
     "name": "stdout",
     "output_type": "stream",
     "text": [
      "+------------+------------------+\n",
      "|payment_type|avg(payment_value)|\n",
      "+------------+------------------+\n",
      "| credit_card|163.31902063935814|\n",
      "|      boleto| 145.0344354023453|\n",
      "|  debit_card|142.57017004578168|\n",
      "|     voucher|  65.7033541125542|\n",
      "| not_defined|               0.0|\n",
      "+------------+------------------+\n",
      "\n"
     ]
    }
   ],
   "source": [
    "# avg payment by payment type\n",
    "from pyspark.sql.functions import avg\n",
    "\n",
    "order_payments_df.groupBy('payment_type').agg(avg('payment_value')).orderBy('avg(payment_value)', ascending = False).show()"
   ]
  },
  {
   "cell_type": "code",
   "execution_count": 71,
   "id": "b1b1a84b-a617-441e-bd80-16e6e5f8790b",
   "metadata": {
    "tags": []
   },
   "outputs": [
    {
     "name": "stdout",
     "output_type": "stream",
     "text": [
      "+-------------+-----+\n",
      "|customer_type|count|\n",
      "+-------------+-----+\n",
      "|     one-time|99441|\n",
      "+-------------+-----+\n",
      "\n"
     ]
    }
   ],
   "source": [
    "customer_order_counts = orders_df.groupBy(\"customer_id\") \\\n",
    "                                 .agg(count(\"*\").alias(\"num_orders\"))\n",
    "\n",
    "# classify repeat vs one-time\n",
    "customer_order_counts = customer_order_counts.withColumn(\n",
    "    \"customer_type\",\n",
    "    when(col(\"num_orders\") == 1, \"one-time\").otherwise(\"repeat\")\n",
    ")\n",
    "\n",
    "# count in each type\n",
    "customer_order_counts.groupBy(\"customer_type\") \\\n",
    "                     .count() \\\n",
    "                     .show()"
   ]
  },
  {
   "cell_type": "code",
   "execution_count": 75,
   "id": "771a41d6-f089-429d-a752-d3583c8f95b1",
   "metadata": {
    "tags": []
   },
   "outputs": [
    {
     "name": "stdout",
     "output_type": "stream",
     "text": [
      "+-----------------------------+-----------------+\n",
      "|product_category_name_english|        avg_score|\n",
      "+-----------------------------+-----------------+\n",
      "|            cds_dvds_musicals|4.642857142857143|\n",
      "|         fashion_childrens...|              4.5|\n",
      "|         books_general_int...|4.446265938069216|\n",
      "|         costruction_tools...|4.444444444444445|\n",
      "|                      flowers|4.419354838709677|\n",
      "+-----------------------------+-----------------+\n",
      "only showing top 5 rows\n",
      "\n"
     ]
    }
   ],
   "source": [
    "# join review and items\n",
    "review_items = order_reviews_df.join(order_items_df, on=\"order_id\", how=\"inner\")\n",
    "\n",
    "# join that with products\n",
    "review_items = review_items.join(products_df, on=\"product_id\", how=\"inner\")\n",
    "\n",
    "# join again with category translation\n",
    "review_items = review_items.join(product_category_translation_df, on=\"product_category_name\", how=\"left\")\n",
    "\n",
    "review_items.groupBy(\"product_category_name_english\") \\\n",
    "            .agg(avg(\"review_score\").alias(\"avg_score\")) \\\n",
    "            .orderBy(\"avg_score\", ascending=False) \\\n",
    "            .show(5)\n"
   ]
  }
 ],
 "metadata": {
  "kernelspec": {
   "display_name": "PySpark",
   "language": "python",
   "name": "pyspark"
  },
  "language_info": {
   "codemirror_mode": {
    "name": "ipython",
    "version": 3
   },
   "file_extension": ".py",
   "mimetype": "text/x-python",
   "name": "python",
   "nbconvert_exporter": "python",
   "pygments_lexer": "ipython3",
   "version": "3.11.8"
  }
 },
 "nbformat": 4,
 "nbformat_minor": 5
}
