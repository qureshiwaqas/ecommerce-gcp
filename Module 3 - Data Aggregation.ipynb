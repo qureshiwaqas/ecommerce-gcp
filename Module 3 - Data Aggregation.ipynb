{
 "cells": [
  {
   "cell_type": "code",
   "execution_count": 2,
   "id": "d8b5f7e9-ae8d-4dd6-b35c-0257744d268f",
   "metadata": {
    "tags": []
   },
   "outputs": [
    {
     "name": "stderr",
     "output_type": "stream",
     "text": [
      "25/05/24 21:49:57 WARN SparkSession: Using an existing Spark session; only runtime SQL configurations will take effect.\n"
     ]
    }
   ],
   "source": [
    "from pyspark.sql import SparkSession\n",
    "\n",
    "spark = SparkSession.builder.appName('Olist').getOrCreate()"
   ]
  },
  {
   "cell_type": "code",
   "execution_count": 3,
   "id": "e05334e0-2344-4cab-9b1c-f635de9f8f7a",
   "metadata": {
    "tags": []
   },
   "outputs": [],
   "source": [
    "hdfs_path = '/data/olist/'"
   ]
  },
  {
   "cell_type": "code",
   "execution_count": 4,
   "id": "e06b4964-c70e-482c-9fd9-6624d0d9c5e0",
   "metadata": {
    "tags": []
   },
   "outputs": [
    {
     "name": "stderr",
     "output_type": "stream",
     "text": [
      "                                                                                \r"
     ]
    }
   ],
   "source": [
    "customers_df = spark.read.csv(hdfs_path + 'olist_customers_dataset.csv', inferSchema='true', header='true')\n",
    "geolocation_df = spark.read.csv(hdfs_path + 'olist_geolocation_dataset.csv', inferSchema='true', header='true')\n",
    "order_items_df = spark.read.csv(hdfs_path + 'olist_order_items_dataset.csv', inferSchema='true', header='true')\n",
    "order_payments_df = spark.read.csv(hdfs_path + 'olist_order_payments_dataset.csv', inferSchema='true', header='true')\n",
    "order_reviews_df = spark.read.csv(hdfs_path + 'olist_order_reviews_dataset.csv', inferSchema='true', header='true')\n",
    "orders_df = spark.read.csv(hdfs_path + 'olist_orders_dataset.csv', inferSchema='true', header='true')\n",
    "products_df = spark.read.csv(hdfs_path + 'olist_products_dataset.csv', inferSchema='true', header='true')\n",
    "sellers_df = spark.read.csv(hdfs_path + 'olist_sellers_dataset.csv', inferSchema='true', header='true')\n",
    "product_category_translation_df = spark.read.csv(hdfs_path + 'product_category_name_translation.csv', inferSchema='true', header='true')"
   ]
  },
  {
   "cell_type": "code",
   "execution_count": 5,
   "id": "5534d434-5028-4d74-af83-f07ecd2932c3",
   "metadata": {
    "tags": []
   },
   "outputs": [
    {
     "data": {
      "text/plain": [
       "DataFrame[order_id: string, order_item_id: int, product_id: string, seller_id: string, shipping_limit_date: timestamp, price: double, freight_value: double]"
      ]
     },
     "execution_count": 5,
     "metadata": {},
     "output_type": "execute_result"
    }
   ],
   "source": [
    "# caching frequently used datasets for faster access & better performance\n",
    "\n",
    "orders_df.cache()\n",
    "products_df.cache()\n",
    "customers_df.cache()\n",
    "sellers_df.cache()\n",
    "order_items_df.cache()"
   ]
  },
  {
   "cell_type": "code",
   "execution_count": 6,
   "id": "d3656a4d-2957-43d4-836c-cd8869190882",
   "metadata": {
    "tags": []
   },
   "outputs": [],
   "source": [
    "joined_df = orders_df.join(order_items_df, 'order_id', 'inner')"
   ]
  },
  {
   "cell_type": "code",
   "execution_count": 7,
   "id": "13b573ff-a2af-4e15-ba29-d0e391ae1c95",
   "metadata": {
    "tags": []
   },
   "outputs": [],
   "source": [
    "joined_df = joined_df.join(products_df, 'product_id', 'inner')"
   ]
  },
  {
   "cell_type": "code",
   "execution_count": 8,
   "id": "2f40bd16-d933-4922-a227-4ba6f435e1cf",
   "metadata": {
    "tags": []
   },
   "outputs": [],
   "source": [
    "joined_df = joined_df.join(sellers_df, 'seller_id', 'inner')"
   ]
  },
  {
   "cell_type": "code",
   "execution_count": 9,
   "id": "82981144-2a30-435f-9ed0-796a50a79447",
   "metadata": {
    "tags": []
   },
   "outputs": [],
   "source": [
    "joined_df = joined_df.join(customers_df, 'customer_id', 'inner')"
   ]
  },
  {
   "cell_type": "code",
   "execution_count": 10,
   "id": "a2685d59-392b-472e-8797-80820a0eab88",
   "metadata": {
    "tags": []
   },
   "outputs": [],
   "source": [
    "# left joining geolocation data\n",
    "# because dont want to lose data without geolocation\n",
    "joined_df = joined_df.join(geolocation_df, joined_df.customer_zip_code_prefix == geolocation_df.geolocation_zip_code_prefix, 'left')"
   ]
  },
  {
   "cell_type": "code",
   "execution_count": 12,
   "id": "666c8f61-9780-4d30-8fff-4d2dec56d27a",
   "metadata": {
    "tags": []
   },
   "outputs": [],
   "source": [
    "# left joining reviews and payments\n",
    "joined_df = joined_df.join(order_reviews_df, 'order_id', 'left')\n",
    "complete_df = joined_df.join(order_payments_df, 'order_id', 'left')"
   ]
  },
  {
   "cell_type": "code",
   "execution_count": 13,
   "id": "b197132e-006a-49e6-862b-347803bd6a7f",
   "metadata": {
    "tags": []
   },
   "outputs": [
    {
     "name": "stderr",
     "output_type": "stream",
     "text": [
      "25/05/23 23:16:22 WARN SparkStringUtils: Truncated the string representation of a plan since it was too large. This behavior can be adjusted by setting 'spark.sql.debug.maxToStringFields'.\n"
     ]
    },
    {
     "data": {
      "text/plain": [
       "DataFrame[order_id: string, customer_id: string, seller_id: string, product_id: string, order_status: string, order_purchase_timestamp: timestamp, order_approved_at: timestamp, order_delivered_carrier_date: timestamp, order_delivered_customer_date: timestamp, order_estimated_delivery_date: timestamp, order_item_id: int, shipping_limit_date: timestamp, price: double, freight_value: double, product_category_name: string, product_name_lenght: int, product_description_lenght: int, product_photos_qty: int, product_weight_g: int, product_length_cm: int, product_height_cm: int, product_width_cm: int, seller_zip_code_prefix: int, seller_city: string, seller_state: string, customer_unique_id: string, customer_zip_code_prefix: int, customer_city: string, customer_state: string, geolocation_zip_code_prefix: int, geolocation_lat: double, geolocation_lng: double, geolocation_city: string, geolocation_state: string, review_id: string, review_score: string, review_comment_title: string, review_comment_message: string, review_creation_date: string, review_answer_timestamp: string, payment_sequential: int, payment_type: string, payment_installments: int, payment_value: double]"
      ]
     },
     "execution_count": 13,
     "metadata": {},
     "output_type": "execute_result"
    }
   ],
   "source": [
    "complete_df.cache()"
   ]
  },
  {
   "cell_type": "code",
   "execution_count": 14,
   "id": "9f4fa18e-7c5e-4cf4-b77f-3e4c2719221e",
   "metadata": {
    "tags": []
   },
   "outputs": [
    {
     "name": "stdout",
     "output_type": "stream",
     "text": [
      "root\n",
      " |-- order_id: string (nullable = true)\n",
      " |-- customer_id: string (nullable = true)\n",
      " |-- seller_id: string (nullable = true)\n",
      " |-- product_id: string (nullable = true)\n",
      " |-- order_status: string (nullable = true)\n",
      " |-- order_purchase_timestamp: timestamp (nullable = true)\n",
      " |-- order_approved_at: timestamp (nullable = true)\n",
      " |-- order_delivered_carrier_date: timestamp (nullable = true)\n",
      " |-- order_delivered_customer_date: timestamp (nullable = true)\n",
      " |-- order_estimated_delivery_date: timestamp (nullable = true)\n",
      " |-- order_item_id: integer (nullable = true)\n",
      " |-- shipping_limit_date: timestamp (nullable = true)\n",
      " |-- price: double (nullable = true)\n",
      " |-- freight_value: double (nullable = true)\n",
      " |-- product_category_name: string (nullable = true)\n",
      " |-- product_name_lenght: integer (nullable = true)\n",
      " |-- product_description_lenght: integer (nullable = true)\n",
      " |-- product_photos_qty: integer (nullable = true)\n",
      " |-- product_weight_g: integer (nullable = true)\n",
      " |-- product_length_cm: integer (nullable = true)\n",
      " |-- product_height_cm: integer (nullable = true)\n",
      " |-- product_width_cm: integer (nullable = true)\n",
      " |-- seller_zip_code_prefix: integer (nullable = true)\n",
      " |-- seller_city: string (nullable = true)\n",
      " |-- seller_state: string (nullable = true)\n",
      " |-- customer_unique_id: string (nullable = true)\n",
      " |-- customer_zip_code_prefix: integer (nullable = true)\n",
      " |-- customer_city: string (nullable = true)\n",
      " |-- customer_state: string (nullable = true)\n",
      " |-- geolocation_zip_code_prefix: integer (nullable = true)\n",
      " |-- geolocation_lat: double (nullable = true)\n",
      " |-- geolocation_lng: double (nullable = true)\n",
      " |-- geolocation_city: string (nullable = true)\n",
      " |-- geolocation_state: string (nullable = true)\n",
      " |-- review_id: string (nullable = true)\n",
      " |-- review_score: string (nullable = true)\n",
      " |-- review_comment_title: string (nullable = true)\n",
      " |-- review_comment_message: string (nullable = true)\n",
      " |-- review_creation_date: string (nullable = true)\n",
      " |-- review_answer_timestamp: string (nullable = true)\n",
      " |-- payment_sequential: integer (nullable = true)\n",
      " |-- payment_type: string (nullable = true)\n",
      " |-- payment_installments: integer (nullable = true)\n",
      " |-- payment_value: double (nullable = true)\n",
      "\n"
     ]
    }
   ],
   "source": [
    "complete_df.printSchema()"
   ]
  },
  {
   "cell_type": "code",
   "execution_count": 29,
   "id": "24851817-4dd1-4ce7-975c-8c880d9dc586",
   "metadata": {
    "tags": []
   },
   "outputs": [
    {
     "name": "stderr",
     "output_type": "stream",
     "text": [
      "[Stage 99:===================================================> (970 + 4) / 1000]\r"
     ]
    },
    {
     "name": "stdout",
     "output_type": "stream",
     "text": [
      "+--------------------+--------------------+\n",
      "|           seller_id|        total_profit|\n",
      "+--------------------+--------------------+\n",
      "|4869f7a5dfa277a7d...|3.6138717319999926E7|\n",
      "|53243585a1d6dc264...| 3.429159294999998E7|\n",
      "|4a3ca9315b744ce9f...|  3.37595708400001E7|\n",
      "|7c67e1448b00f6e96...|3.2282321789999772E7|\n",
      "|fa1c13f2614d7b5c4...|3.0139386309999976E7|\n",
      "+--------------------+--------------------+\n",
      "only showing top 5 rows\n",
      "\n"
     ]
    },
    {
     "name": "stderr",
     "output_type": "stream",
     "text": [
      "                                                                                \r"
     ]
    }
   ],
   "source": [
    "from pyspark.sql.functions import *\n",
    "\n",
    "# total revenue per seller\n",
    "seller_revenue_df = complete_df.groupBy('seller_id').agg(sum('price').alias('total_profit')).orderBy('total_profit', ascending = False)\n",
    "seller_revenue_df.show(5)"
   ]
  },
  {
   "cell_type": "code",
   "execution_count": 34,
   "id": "22eb510c-f523-4649-bf1b-07f4f0d85e68",
   "metadata": {
    "tags": []
   },
   "outputs": [],
   "source": [
    "# Total Items Orders Per Custoemr\n",
    "customer_total_items = complete_df.groupBy('customer_id').agg(count('order_item_id').alias('total_items_ordered')).orderBy('total_items_ordered', ascending = False)"
   ]
  },
  {
   "cell_type": "code",
   "execution_count": 35,
   "id": "c97a2fc0-8c64-4804-803e-2e8dbc775f68",
   "metadata": {
    "tags": []
   },
   "outputs": [
    {
     "name": "stderr",
     "output_type": "stream",
     "text": [
      "[Stage 113:===================================================>(993 + 2) / 1000]\r"
     ]
    },
    {
     "name": "stdout",
     "output_type": "stream",
     "text": [
      "+--------------------+-------------------+\n",
      "|         customer_id|total_items_ordered|\n",
      "+--------------------+-------------------+\n",
      "|351e40989da90e704...|              11427|\n",
      "|50920f8cd0681fd86...|              10752|\n",
      "|9b43e2a62de9bab3a...|               8556|\n",
      "|270c23a11d024a44c...|               8001|\n",
      "|5c87184371002d49e...|               6876|\n",
      "+--------------------+-------------------+\n",
      "only showing top 5 rows\n",
      "\n"
     ]
    },
    {
     "name": "stderr",
     "output_type": "stream",
     "text": [
      "                                                                                \r"
     ]
    }
   ],
   "source": [
    "customer_total_items.show(5)"
   ]
  },
  {
   "cell_type": "code",
   "execution_count": 40,
   "id": "41aa96c3-e07a-4b12-913f-0d12f4749cfe",
   "metadata": {
    "tags": []
   },
   "outputs": [],
   "source": [
    "# Total  Orders Per Custoemr\n",
    "customer_total_items = complete_df.groupBy('customer_id').agg(count('order_id').alias('total_orders')).orderBy('total_orders', ascending = False)"
   ]
  },
  {
   "cell_type": "code",
   "execution_count": 41,
   "id": "5d25130a-728b-4435-9573-7d84fb6e2c7c",
   "metadata": {
    "tags": []
   },
   "outputs": [
    {
     "name": "stderr",
     "output_type": "stream",
     "text": [
      "[Stage 139:==================================================> (967 + 4) / 1000]\r"
     ]
    },
    {
     "name": "stdout",
     "output_type": "stream",
     "text": [
      "+--------------------+------------+\n",
      "|         customer_id|total_orders|\n",
      "+--------------------+------------+\n",
      "|351e40989da90e704...|       11427|\n",
      "|50920f8cd0681fd86...|       10752|\n",
      "|9b43e2a62de9bab3a...|        8556|\n",
      "|270c23a11d024a44c...|        8001|\n",
      "|5c87184371002d49e...|        6876|\n",
      "+--------------------+------------+\n",
      "only showing top 5 rows\n",
      "\n"
     ]
    },
    {
     "name": "stderr",
     "output_type": "stream",
     "text": [
      "                                                                                \r"
     ]
    }
   ],
   "source": [
    "customer_total_items.show(5)"
   ]
  },
  {
   "cell_type": "code",
   "execution_count": 42,
   "id": "0640b3ff-6d17-4bef-ad1f-4e1f9c2a4765",
   "metadata": {
    "tags": []
   },
   "outputs": [],
   "source": [
    "# Average Review Score Per Seller\n",
    "seller_avg_review_rating = complete_df.groupBy('seller_id').agg(avg('review_score').alias('review_score')).orderBy(desc('review_score'))"
   ]
  },
  {
   "cell_type": "code",
   "execution_count": 43,
   "id": "41612701-934b-4d2a-9d98-7bc7d6022132",
   "metadata": {
    "tags": []
   },
   "outputs": [
    {
     "name": "stderr",
     "output_type": "stream",
     "text": [
      "[Stage 146:===================================================>(985 + 4) / 1000]\r"
     ]
    },
    {
     "name": "stdout",
     "output_type": "stream",
     "text": [
      "+--------------------+------------+\n",
      "|           seller_id|review_score|\n",
      "+--------------------+------------+\n",
      "|417a1e6c7321084d2...|         5.0|\n",
      "|48e5ee06fb2dc74df...|         5.0|\n",
      "|b5dd7151a92ccaaa2...|         5.0|\n",
      "|a663d9c3797e90eac...|         5.0|\n",
      "|10264f60a8f0a4d2f...|         5.0|\n",
      "+--------------------+------------+\n",
      "only showing top 5 rows\n",
      "\n"
     ]
    },
    {
     "name": "stderr",
     "output_type": "stream",
     "text": [
      "                                                                                \r"
     ]
    }
   ],
   "source": [
    "seller_avg_review_rating.show(5)"
   ]
  },
  {
   "cell_type": "code",
   "execution_count": 44,
   "id": "2130cb48-70ed-49af-bda8-69642b63d75e",
   "metadata": {
    "tags": []
   },
   "outputs": [],
   "source": [
    "# Most Sold Products ( Top 10 )\n",
    "most_sold_prod = complete_df.groupBy('product_id').agg(count('order_id').alias('count')).orderBy(desc('count'))"
   ]
  },
  {
   "cell_type": "code",
   "execution_count": 45,
   "id": "99b05ab4-6560-473b-b36b-abd2de5d2859",
   "metadata": {
    "tags": []
   },
   "outputs": [
    {
     "name": "stderr",
     "output_type": "stream",
     "text": [
      "[Stage 153:==================================================> (980 + 4) / 1000]\r"
     ]
    },
    {
     "name": "stdout",
     "output_type": "stream",
     "text": [
      "+--------------------+-----+\n",
      "|          product_id|count|\n",
      "+--------------------+-----+\n",
      "|aca2eb7d00ea1a7b8...|86740|\n",
      "|422879e10f4668299...|81110|\n",
      "|99a4788cb24856965...|78775|\n",
      "|389d119b48cf3043d...|60248|\n",
      "|d1c427060a0f73f6b...|59274|\n",
      "+--------------------+-----+\n",
      "only showing top 5 rows\n",
      "\n"
     ]
    },
    {
     "name": "stderr",
     "output_type": "stream",
     "text": [
      "                                                                                \r"
     ]
    }
   ],
   "source": [
    "most_sold_prod.show(5)"
   ]
  },
  {
   "cell_type": "code",
   "execution_count": 52,
   "id": "da4121cf-68ac-461c-8b86-ee0884ae36cf",
   "metadata": {
    "tags": []
   },
   "outputs": [],
   "source": [
    "# Top Customers By Spending\n",
    "top_spending_cust = complete_df.groupBy('customer_id').agg(sum('payment_value').alias('total_spending')).orderBy(desc('total_spending'))"
   ]
  },
  {
   "cell_type": "code",
   "execution_count": 47,
   "id": "9399409c-b729-4755-94bc-47317c1057a3",
   "metadata": {
    "tags": []
   },
   "outputs": [
    {
     "name": "stderr",
     "output_type": "stream",
     "text": [
      "[Stage 160:==================================================> (979 + 4) / 1000]\r"
     ]
    },
    {
     "name": "stdout",
     "output_type": "stream",
     "text": [
      "+--------------------+--------------+\n",
      "|         customer_id|total_spending|\n",
      "+--------------------+--------------+\n",
      "|d3e82ccec3cb5f956...|     6662844.0|\n",
      "|df55c14d1476a9a34...|     3565657.0|\n",
      "|fe5113a38e3575c04...|     3293604.0|\n",
      "|ec5b2ba62e5743423...|     2556120.0|\n",
      "|63b964e79dee32a35...|     2501664.0|\n",
      "+--------------------+--------------+\n",
      "only showing top 5 rows\n",
      "\n"
     ]
    },
    {
     "name": "stderr",
     "output_type": "stream",
     "text": [
      "                                                                                \r"
     ]
    }
   ],
   "source": [
    "top_spending_cust.show(5)"
   ]
  },
  {
   "cell_type": "code",
   "execution_count": 53,
   "id": "8653ff6d-69a1-474e-a86d-3ee9920b5da5",
   "metadata": {
    "tags": []
   },
   "outputs": [
    {
     "name": "stderr",
     "output_type": "stream",
     "text": [
      "[Stage 174:==================================================> (972 + 2) / 1000]\r"
     ]
    },
    {
     "name": "stdout",
     "output_type": "stream",
     "text": [
      "+--------------------+--------------------+\n",
      "|         customer_id|      total_spending|\n",
      "+--------------------+--------------------+\n",
      "|1ff773612ab8934db...| 1.756825199999893E7|\n",
      "|05455dfa7cd02f13d...|1.3282083359999327E7|\n",
      "|ec5b2ba62e5743423...|1.0388528640000112E7|\n",
      "|0c792d32a3251b4f6...|   8254681.600000529|\n",
      "|78fc46047c4a639e8...|   7488519.999999339|\n",
      "+--------------------+--------------------+\n",
      "only showing top 5 rows\n",
      "\n"
     ]
    },
    {
     "name": "stderr",
     "output_type": "stream",
     "text": [
      "                                                                                \r"
     ]
    }
   ],
   "source": [
    "top_spending_cust.show(5)"
   ]
  },
  {
   "cell_type": "markdown",
   "id": "edcd005a-1635-4ed2-bb39-948904ec9045",
   "metadata": {},
   "source": [
    "## Optimizing joins using broadcast"
   ]
  },
  {
   "cell_type": "code",
   "execution_count": 6,
   "id": "3ac86718-3001-41b6-97d5-75050db8484d",
   "metadata": {
    "tags": []
   },
   "outputs": [],
   "source": [
    "from pyspark.sql.functions import *"
   ]
  },
  {
   "cell_type": "code",
   "execution_count": 7,
   "id": "c4bb2f10-6326-4d80-942a-ce8401e406a7",
   "metadata": {
    "tags": []
   },
   "outputs": [],
   "source": [
    "joined_df = orders_df.join(order_items_df, 'order_id', 'inner')"
   ]
  },
  {
   "cell_type": "code",
   "execution_count": 8,
   "id": "b08f0b80-2b3d-4295-9034-e2ba8f85c584",
   "metadata": {
    "tags": []
   },
   "outputs": [],
   "source": [
    "joined_df = joined_df.join(products_df, 'product_id', 'inner')"
   ]
  },
  {
   "cell_type": "code",
   "execution_count": 9,
   "id": "b56940fa-0456-4ab8-bed6-09330e200eb5",
   "metadata": {
    "tags": []
   },
   "outputs": [],
   "source": [
    "joined_df = joined_df.join(broadcast(sellers_df), 'seller_id', 'inner')"
   ]
  },
  {
   "cell_type": "code",
   "execution_count": 10,
   "id": "463a14c2-a61a-4323-a533-6c66f2e3916f",
   "metadata": {
    "tags": []
   },
   "outputs": [],
   "source": [
    "joined_df = joined_df.join(customers_df, 'customer_id', 'inner')"
   ]
  },
  {
   "cell_type": "code",
   "execution_count": 12,
   "id": "3cd53b14-9c5f-4276-b6e0-84ee738b0833",
   "metadata": {
    "tags": []
   },
   "outputs": [],
   "source": [
    "# join geolocation using broadcast\n",
    "joined_df = joined_df.join(broadcast(geolocation_df), joined_df.customer_zip_code_prefix == geolocation_df.geolocation_zip_code_prefix, 'left')"
   ]
  },
  {
   "cell_type": "code",
   "execution_count": 13,
   "id": "677c1a50-69b3-4772-a409-dda029b82160",
   "metadata": {
    "tags": []
   },
   "outputs": [],
   "source": [
    "# join reviews using broadcast\n",
    "joined_df = joined_df.join(broadcast(order_reviews_df), 'order_id', 'left')"
   ]
  },
  {
   "cell_type": "code",
   "execution_count": 14,
   "id": "276ff70d-43d0-49c2-9598-a26e5aee9c71",
   "metadata": {
    "tags": []
   },
   "outputs": [],
   "source": [
    "# join payments\n",
    "complete_df = joined_df.join(order_payments_df, 'order_id', 'left')"
   ]
  },
  {
   "cell_type": "markdown",
   "id": "ce8cbefa-d3c1-43a5-b7a8-1ee00e51d91d",
   "metadata": {},
   "source": [
    "using broadcast helps in making the joins faster and more efficient\n",
    "when one of the dataset is small, so instead of shuffling everything just the small dataset is sent across the network"
   ]
  },
  {
   "cell_type": "code",
   "execution_count": 15,
   "id": "5c0cb61f-23ed-41e3-8e3b-20c441fc18ca",
   "metadata": {
    "tags": []
   },
   "outputs": [
    {
     "name": "stderr",
     "output_type": "stream",
     "text": [
      "25/05/24 21:57:48 WARN SparkStringUtils: Truncated the string representation of a plan since it was too large. This behavior can be adjusted by setting 'spark.sql.debug.maxToStringFields'.\n"
     ]
    },
    {
     "data": {
      "text/plain": [
       "DataFrame[order_id: string, customer_id: string, seller_id: string, product_id: string, order_status: string, order_purchase_timestamp: timestamp, order_approved_at: timestamp, order_delivered_carrier_date: timestamp, order_delivered_customer_date: timestamp, order_estimated_delivery_date: timestamp, order_item_id: int, shipping_limit_date: timestamp, price: double, freight_value: double, product_category_name: string, product_name_lenght: int, product_description_lenght: int, product_photos_qty: int, product_weight_g: int, product_length_cm: int, product_height_cm: int, product_width_cm: int, seller_zip_code_prefix: int, seller_city: string, seller_state: string, customer_unique_id: string, customer_zip_code_prefix: int, customer_city: string, customer_state: string, geolocation_zip_code_prefix: int, geolocation_lat: double, geolocation_lng: double, geolocation_city: string, geolocation_state: string, review_id: string, review_score: string, review_comment_title: string, review_comment_message: string, review_creation_date: string, review_answer_timestamp: string, payment_sequential: int, payment_type: string, payment_installments: int, payment_value: double]"
      ]
     },
     "execution_count": 15,
     "metadata": {},
     "output_type": "execute_result"
    }
   ],
   "source": [
    "complete_df.cache()"
   ]
  },
  {
   "cell_type": "markdown",
   "id": "c887304f-d0bd-434f-9dbd-a10239a9c82b",
   "metadata": {},
   "source": [
    "### Utilzing window function"
   ]
  },
  {
   "cell_type": "code",
   "execution_count": 16,
   "id": "954cb366-8bc4-46ca-bc31-7cc166ca9123",
   "metadata": {
    "tags": []
   },
   "outputs": [],
   "source": [
    "from pyspark.sql.window import Window"
   ]
  },
  {
   "cell_type": "code",
   "execution_count": 19,
   "id": "2bb70b82-6cba-4d93-b184-ce2101ff1594",
   "metadata": {
    "tags": []
   },
   "outputs": [],
   "source": [
    "# calculating top 5 expensive products per seller\n",
    "window_spec = Window.partitionBy('seller_id').orderBy(desc('price'))"
   ]
  },
  {
   "cell_type": "code",
   "execution_count": 25,
   "id": "344943da-6856-4217-b1bc-e12108d3d3e7",
   "metadata": {
    "tags": []
   },
   "outputs": [
    {
     "name": "stderr",
     "output_type": "stream",
     "text": [
      "[Stage 37:=============================>                            (1 + 1) / 2]\r"
     ]
    },
    {
     "name": "stdout",
     "output_type": "stream",
     "text": [
      "+--------------------+-----+----+\n",
      "|           seller_id|price|rank|\n",
      "+--------------------+-----+----+\n",
      "|0015a82c2db000af6...|895.0|   1|\n",
      "|0015a82c2db000af6...|895.0|   1|\n",
      "|0015a82c2db000af6...|895.0|   1|\n",
      "|0015a82c2db000af6...|895.0|   1|\n",
      "|0015a82c2db000af6...|895.0|   1|\n",
      "+--------------------+-----+----+\n",
      "only showing top 5 rows\n",
      "\n"
     ]
    },
    {
     "name": "stderr",
     "output_type": "stream",
     "text": [
      "                                                                                \r"
     ]
    }
   ],
   "source": [
    "# top 5 expensive products per seller\n",
    "top_seller_products_df = complete_df.withColumn('rank', rank().over(window_spec)).filter(col('rank') <=5)\n",
    "top_seller_products_df.select('seller_id', 'price', 'rank').show(5)"
   ]
  },
  {
   "cell_type": "code",
   "execution_count": 36,
   "id": "8c84b25c-26d1-42c6-9195-01942ae3aaa0",
   "metadata": {
    "tags": []
   },
   "outputs": [
    {
     "name": "stdout",
     "output_type": "stream",
     "text": [
      "+--------------------+--------------------+------------------------+\n",
      "|         customer_id|            order_id|order_purchase_timestamp|\n",
      "+--------------------+--------------------+------------------------+\n",
      "|00012a2ce6f8dcda2...|5f79b5b0931d63f1a...|     2017-11-14 16:08:26|\n",
      "|000161a058600d590...|a44895d095d7e0702...|     2017-07-16 09:40:32|\n",
      "|000379cdec6255224...|0ab7fb08086d4af91...|     2018-04-02 13:42:17|\n",
      "|0004164d20a9e969a...|cd3558a10d854487b...|     2017-04-12 08:35:12|\n",
      "|000419c5494106c30...|07f6c3baf9ac86865...|     2018-03-02 17:47:40|\n",
      "+--------------------+--------------------+------------------------+\n",
      "only showing top 5 rows\n",
      "\n"
     ]
    }
   ],
   "source": [
    "# most recent order per customer\n",
    "window_spec = Window.partitionBy('customer_id').orderBy(desc('order_purchase_timestamp'))\n",
    "\n",
    "recent_orders_df = orders_df.withColumn('row_num', row_number().over(window_spec))\\\n",
    "                            .filter(col('row_num') <= 2)\n",
    "\n",
    "recent_orders_df.select('customer_id', 'order_id', 'order_purchase_timestamp').show(5)"
   ]
  },
  {
   "cell_type": "markdown",
   "id": "871255f2-ca49-4394-b8f8-99c411eb658e",
   "metadata": {
    "tags": []
   },
   "source": [
    "## Calcuating complex detailed metrics"
   ]
  },
  {
   "cell_type": "markdown",
   "id": "2a16c994-09ea-41a6-96a2-ebb602250f66",
   "metadata": {
    "tags": []
   },
   "source": [
    "### **Customers**"
   ]
  },
  {
   "cell_type": "code",
   "execution_count": 98,
   "id": "9ff2d970-3a11-4997-8ca8-df0f74a0c1db",
   "metadata": {
    "tags": []
   },
   "outputs": [],
   "source": [
    "# total revenue & Average Order Value per Customer\n",
    "\n",
    "customer_spending_df = complete_df.groupBy('customer_id').agg(\n",
    "count('order_id').alias('total_orders'),\n",
    "sum('price').alias('total_spent'),\n",
    "round(avg('price'),2).alias('AOV')).orderBy(desc('total_spent'))"
   ]
  },
  {
   "cell_type": "markdown",
   "id": "d3a532e0-58dc-47b6-92b9-1f6dcf68171e",
   "metadata": {},
   "source": [
    "customer spending habits are helpful in deciding various promotions for specific customers"
   ]
  },
  {
   "cell_type": "code",
   "execution_count": 99,
   "id": "b3ad120f-0996-4cb2-8a45-a4f1d6c658ed",
   "metadata": {
    "tags": []
   },
   "outputs": [
    {
     "name": "stderr",
     "output_type": "stream",
     "text": [
      "[Stage 156:============================>                            (1 + 1) / 2]\r"
     ]
    },
    {
     "name": "stdout",
     "output_type": "stream",
     "text": [
      "+--------------------+------------+-----------+------+\n",
      "|         customer_id|total_orders|total_spent|   AOV|\n",
      "+--------------------+------------+-----------+------+\n",
      "|d3e82ccec3cb5f956...|        6876|  6662844.0| 969.0|\n",
      "|df55c14d1476a9a34...|         743|  3565657.0|4799.0|\n",
      "|fe5113a38e3575c04...|        2292|  3293604.0|1437.0|\n",
      "|ec5b2ba62e5743423...|        1428|  2556120.0|1790.0|\n",
      "|63b964e79dee32a35...|        6072|  2501664.0| 412.0|\n",
      "+--------------------+------------+-----------+------+\n",
      "only showing top 5 rows\n",
      "\n"
     ]
    },
    {
     "name": "stderr",
     "output_type": "stream",
     "text": [
      "                                                                                \r"
     ]
    }
   ],
   "source": [
    "customer_spending_df.show(5)"
   ]
  },
  {
   "cell_type": "markdown",
   "id": "aad647f1-353d-4bad-ba97-6cb85c7befce",
   "metadata": {
    "jp-MarkdownHeadingCollapsed": true,
    "tags": []
   },
   "source": [
    "### **Sellers**"
   ]
  },
  {
   "cell_type": "code",
   "execution_count": 42,
   "id": "d62208e8-4c17-4b65-87a3-6534bae503fc",
   "metadata": {
    "tags": []
   },
   "outputs": [],
   "source": [
    "# revenue, avg review, order count\n",
    "\n",
    "seller_performance_df = complete_df.groupBy('seller_id').agg(\n",
    "count('order_id').alias('total_orders'),\n",
    "sum('price').alias('total_revenue'),\n",
    "round(avg('review_score'),2).alias('avg_review'),\n",
    "round(stddev('price'),2).alias('price_variability')).orderBy(desc('total_revenue'))"
   ]
  },
  {
   "cell_type": "code",
   "execution_count": 43,
   "id": "ba624130-d4fb-494e-94a1-35bc13c9a470",
   "metadata": {
    "tags": []
   },
   "outputs": [
    {
     "name": "stderr",
     "output_type": "stream",
     "text": [
      "[Stage 79:=============================>                            (1 + 1) / 2]\r"
     ]
    },
    {
     "name": "stdout",
     "output_type": "stream",
     "text": [
      "+--------------------+------------+--------------------+----------+-----------------+\n",
      "|           seller_id|total_orders|       total_revenue|avg_review|price_variability|\n",
      "+--------------------+------------+--------------------+----------+-----------------+\n",
      "|4869f7a5dfa277a7d...|      184587| 3.613871731999314E7|      4.09|           111.65|\n",
      "|53243585a1d6dc264...|       54514|3.4291592950000696E7|      4.12|           499.65|\n",
      "|4a3ca9315b744ce9f...|      330661| 3.375957084001202E7|      3.77|            59.37|\n",
      "|7c67e1448b00f6e96...|      233306|3.2282321790021457E7|      3.42|            50.39|\n",
      "|fa1c13f2614d7b5c4...|       87686|3.0139386310006626E7|      4.38|            307.7|\n",
      "+--------------------+------------+--------------------+----------+-----------------+\n",
      "only showing top 5 rows\n",
      "\n"
     ]
    },
    {
     "name": "stderr",
     "output_type": "stream",
     "text": [
      "                                                                                \r"
     ]
    }
   ],
   "source": [
    "seller_performance_df.show(5)"
   ]
  },
  {
   "cell_type": "markdown",
   "id": "9d780536-2a85-4499-834c-33b5d3727edb",
   "metadata": {},
   "source": [
    "total orders give the sampele size, while total revenue is used to establish the importance of seller and avg review gives us the idea about seller, with price variability letting us know if the seller offers frequent dicsount "
   ]
  },
  {
   "cell_type": "markdown",
   "id": "5b1f173e-297d-426f-bb63-a0e63fe2dbfb",
   "metadata": {
    "jp-MarkdownHeadingCollapsed": true,
    "tags": []
   },
   "source": [
    "### **Product**"
   ]
  },
  {
   "cell_type": "code",
   "execution_count": 44,
   "id": "76b09ac5-cbe7-4f94-bf34-dfc54a123100",
   "metadata": {
    "tags": []
   },
   "outputs": [],
   "source": [
    "# purchase count, total purchase value, avg price of the product, variability in price of the product, list of sellers offering the product\n",
    "\n",
    "product_performance_df = complete_df.groupBy('product_id').agg(\n",
    "count('order_id').alias('total_sales'),\n",
    "sum('price').alias('total_revenue'),\n",
    "round(avg('price'),2).alias('avg_price'),\n",
    "round(stddev('price'),2).alias('price_variability'),\n",
    "collect_set('seller_id').alias('unique_sellers')).orderBy(desc('total_sales'))"
   ]
  },
  {
   "cell_type": "code",
   "execution_count": 45,
   "id": "ed108848-7a1e-4a02-87d6-c956d5c3436e",
   "metadata": {
    "tags": []
   },
   "outputs": [
    {
     "name": "stderr",
     "output_type": "stream",
     "text": [
      "[Stage 82:=============================>                            (1 + 1) / 2]\r"
     ]
    },
    {
     "name": "stdout",
     "output_type": "stream",
     "text": [
      "+--------------------+-----------+-----------------+---------+-----------------+--------------------+\n",
      "|          product_id|total_sales|    total_revenue|avg_price|price_variability|      unique_sellers|\n",
      "+--------------------+-----------+-----------------+---------+-----------------+--------------------+\n",
      "|aca2eb7d00ea1a7b8...|      86740|6164630.299996104|    71.07|             3.17|[955fee9216a65b61...|\n",
      "|422879e10f4668299...|      81110|4442791.509997975|    54.77|             4.46|[1f50f920176fa81d...|\n",
      "|99a4788cb24856965...|      78775|6921762.709996365|    87.87|             4.08|[4a3ca9315b744ce9...|\n",
      "|389d119b48cf3043d...|      60248| 3280533.12999878|    54.45|             4.37|[1f50f920176fa81d...|\n",
      "|d1c427060a0f73f6b...|      59274|8220103.330003085|   138.68|            16.58|[a1043bafd471dff5...|\n",
      "+--------------------+-----------+-----------------+---------+-----------------+--------------------+\n",
      "only showing top 5 rows\n",
      "\n"
     ]
    },
    {
     "name": "stderr",
     "output_type": "stream",
     "text": [
      "                                                                                \r"
     ]
    }
   ],
   "source": [
    "product_performance_df.show(5)"
   ]
  },
  {
   "cell_type": "markdown",
   "id": "6e3ba396-396f-4909-b5e3-ffb3a1161be7",
   "metadata": {
    "jp-MarkdownHeadingCollapsed": true,
    "tags": []
   },
   "source": [
    "### **Monthly**"
   ]
  },
  {
   "cell_type": "code",
   "execution_count": 60,
   "id": "47704c8f-3553-48f3-bda8-fd23b26decfe",
   "metadata": {
    "tags": []
   },
   "outputs": [],
   "source": [
    "monthly_performance_df = complete_df.groupBy(month('order_purchase_timestamp').alias('month')).agg(\n",
    "count('order_id').alias('total_orders'),\n",
    "sum('price').alias('total_revenue'),\n",
    "round(avg('price'),2).alias('avg_order_value'),\n",
    "median('price').alias('median_order_value'),\n",
    "min('price').alias('min_order_value'),\n",
    "max('price').alias('max_order_value'),\n",
    "round(stddev('price'),2).alias('price_variability')).orderBy('month')"
   ]
  },
  {
   "cell_type": "code",
   "execution_count": 61,
   "id": "cbbe689f-fd98-433f-a5d8-dfee47e2e08c",
   "metadata": {
    "tags": []
   },
   "outputs": [
    {
     "name": "stderr",
     "output_type": "stream",
     "text": [
      "[Stage 100:============================>                            (1 + 1) / 2]\r"
     ]
    },
    {
     "name": "stdout",
     "output_type": "stream",
     "text": [
      "+-----+------------+--------------------+---------------+------------------+---------------+---------------+-----------------+\n",
      "|month|total_orders|       total_revenue|avg_order_value|median_order_value|min_order_value|max_order_value|price_variability|\n",
      "+-----+------------+--------------------+---------------+------------------+---------------+---------------+-----------------+\n",
      "|    1|     1495580|1.7153290149996296E8|         114.69|              78.0|            2.9|         3690.0|           157.84|\n",
      "|    2|     1551163|1.7878178407014424E8|         115.26|              72.0|           2.99|         6735.0|           167.19|\n",
      "|    3|     1809467|2.1868116843072027E8|         120.85|             73.87|            4.9|        4099.99|           174.76|\n",
      "|    4|     1693860|2.1715696913056687E8|          128.2|              79.9|           0.85|         4799.0|            226.5|\n",
      "|    5|     1918571| 2.400611519711523E8|         125.12|              75.0|            3.5|         6499.0|           197.67|\n",
      "|    6|     1701909| 2.102433234903824E8|         123.53|              75.0|           3.49|         4590.0|           197.85|\n",
      "|    7|     1847639|2.2290885710064745E8|         120.65|              77.9|            1.2|         6729.0|           184.57|\n",
      "|    8|     1914313| 2.319587078507358E8|         121.17|             69.99|            2.2|        4399.87|           190.35|\n",
      "|    9|      763178|  9.59129888597319E7|         125.68|              75.0|           2.29|         1890.0|           181.63|\n",
      "|   10|      922968| 1.135261329398318E8|          123.0|              69.9|           3.85|        2999.99|           187.75|\n",
      "|   11|     1422336|1.6603721754015765E8|         116.74|              72.9|            3.9|         2990.0|            156.0|\n",
      "|   12|     1023277|1.2602297569983193E8|         123.16|              79.0|            4.4|         3124.0|           189.84|\n",
      "+-----+------------+--------------------+---------------+------------------+---------------+---------------+-----------------+\n",
      "\n"
     ]
    },
    {
     "name": "stderr",
     "output_type": "stream",
     "text": [
      "                                                                                \r"
     ]
    }
   ],
   "source": [
    "monthly_performance_df.show()"
   ]
  },
  {
   "cell_type": "markdown",
   "id": "2390e2a5-0017-45a0-9f48-1d2f17917fb6",
   "metadata": {
    "tags": []
   },
   "source": [
    "### **Customer Retention Analysis**"
   ]
  },
  {
   "cell_type": "code",
   "execution_count": 66,
   "id": "850d66f8-fb92-42ec-9eac-b80f25c08bb7",
   "metadata": {
    "tags": []
   },
   "outputs": [],
   "source": [
    "customer_retention_df = complete_df.groupBy('customer_id').agg(\n",
    "min('order_purchase_timestamp').alias('first_order_date'),\n",
    "max('order_purchase_timestamp').alias('last_order_date'),\n",
    "count('order_id').alias('total_orders'),\n",
    "round(avg('price'),2).alias('AOV')).orderBy(desc('total_orders'))"
   ]
  },
  {
   "cell_type": "code",
   "execution_count": 71,
   "id": "0b1b30b3-063a-44ab-9b55-fdd98a0a6064",
   "metadata": {
    "tags": []
   },
   "outputs": [
    {
     "name": "stderr",
     "output_type": "stream",
     "text": [
      "[Stage 122:============================>                            (1 + 1) / 2]\r"
     ]
    },
    {
     "name": "stdout",
     "output_type": "stream",
     "text": [
      "+--------------------+-------------------+-------------------+------------+-----+\n",
      "|         customer_id|   first_order_date|    last_order_date|total_orders|  AOV|\n",
      "+--------------------+-------------------+-------------------+------------+-----+\n",
      "|bc6063f0f2cde26be...|2018-06-10 21:23:13|2018-06-10 21:23:13|           1| 39.0|\n",
      "|7e9e8e8df9e2f28df...|2018-05-18 22:36:51|2018-05-18 22:36:51|           1| 69.0|\n",
      "|52f7baf30ea546558...|2017-05-11 13:22:02|2017-05-11 13:22:02|           1|399.0|\n",
      "|d5fb71112470ab15d...|2018-03-23 10:56:08|2018-03-23 10:56:08|           1| 99.9|\n",
      "|42da09831872a4ecc...|2018-07-25 21:29:05|2018-07-25 21:29:05|           1| 76.0|\n",
      "+--------------------+-------------------+-------------------+------------+-----+\n",
      "only showing top 5 rows\n",
      "\n"
     ]
    },
    {
     "name": "stderr",
     "output_type": "stream",
     "text": [
      "                                                                                \r"
     ]
    }
   ],
   "source": [
    "customer_retention_df.show(5)"
   ]
  },
  {
   "cell_type": "markdown",
   "id": "f98e7b5a-6fa6-4445-a38c-0ca4d3eb3390",
   "metadata": {},
   "source": [
    "## **Enriching data**"
   ]
  },
  {
   "cell_type": "code",
   "execution_count": 73,
   "id": "12830f8b-7d9c-4cef-94f3-c854deba4b1b",
   "metadata": {
    "tags": []
   },
   "outputs": [],
   "source": [
    "# creating order status flags\n",
    "complete_df = complete_df.withColumn('is_delivered', when(col('order_status') == 'delivered', lit(1)).otherwise(lit(0)))\\\n",
    ".withColumn('is_canceled', when(col('order_status') == 'canceled', lit(1)).otherwise(lit(0)))"
   ]
  },
  {
   "cell_type": "code",
   "execution_count": 76,
   "id": "16e5fec6-8839-4a97-abe3-3b45f4507dd3",
   "metadata": {
    "tags": []
   },
   "outputs": [
    {
     "name": "stdout",
     "output_type": "stream",
     "text": [
      "+--------------------+------------+------------+-----------+\n",
      "|            order_id|order_status|is_delivered|is_canceled|\n",
      "+--------------------+------------+------------+-----------+\n",
      "|00010242fe8c5a6d1...|   delivered|           1|          0|\n",
      "|00010242fe8c5a6d1...|   delivered|           1|          0|\n",
      "|00010242fe8c5a6d1...|   delivered|           1|          0|\n",
      "|00010242fe8c5a6d1...|   delivered|           1|          0|\n",
      "|00010242fe8c5a6d1...|   delivered|           1|          0|\n",
      "|00010242fe8c5a6d1...|   delivered|           1|          0|\n",
      "|00010242fe8c5a6d1...|   delivered|           1|          0|\n",
      "|00010242fe8c5a6d1...|   delivered|           1|          0|\n",
      "|00010242fe8c5a6d1...|   delivered|           1|          0|\n",
      "|00010242fe8c5a6d1...|   delivered|           1|          0|\n",
      "+--------------------+------------+------------+-----------+\n",
      "only showing top 10 rows\n",
      "\n"
     ]
    }
   ],
   "source": [
    "complete_df.select('order_id', 'order_status','is_delivered','is_canceled').show(10)"
   ]
  },
  {
   "cell_type": "code",
   "execution_count": 75,
   "id": "ae78e7c7-d8b3-472c-b179-99038f241b6d",
   "metadata": {
    "tags": []
   },
   "outputs": [
    {
     "name": "stdout",
     "output_type": "stream",
     "text": [
      "+--------------------+------------+------------+-----------+\n",
      "|            order_id|order_status|is_delivered|is_canceled|\n",
      "+--------------------+------------+------------+-----------+\n",
      "|00310b0c75bb13015...|    canceled|           0|          1|\n",
      "|00310b0c75bb13015...|    canceled|           0|          1|\n",
      "|00310b0c75bb13015...|    canceled|           0|          1|\n",
      "|00310b0c75bb13015...|    canceled|           0|          1|\n",
      "|00310b0c75bb13015...|    canceled|           0|          1|\n",
      "|00310b0c75bb13015...|    canceled|           0|          1|\n",
      "|00310b0c75bb13015...|    canceled|           0|          1|\n",
      "|00310b0c75bb13015...|    canceled|           0|          1|\n",
      "|00310b0c75bb13015...|    canceled|           0|          1|\n",
      "|00310b0c75bb13015...|    canceled|           0|          1|\n",
      "+--------------------+------------+------------+-----------+\n",
      "only showing top 10 rows\n",
      "\n"
     ]
    }
   ],
   "source": [
    "complete_df.where(complete_df['order_status'] == 'canceled').select('order_id','order_status','is_delivered','is_canceled').show(10)"
   ]
  },
  {
   "cell_type": "code",
   "execution_count": 78,
   "id": "d08f0243-ca76-4ec8-946f-778d9da7e8d7",
   "metadata": {
    "tags": []
   },
   "outputs": [
    {
     "name": "stdout",
     "output_type": "stream",
     "text": [
      "+--------------------+-----+-------------+-------------+\n",
      "|            order_id|price|freight_value|order_revenue|\n",
      "+--------------------+-----+-------------+-------------+\n",
      "|00010242fe8c5a6d1...| 58.9|        13.29|        72.19|\n",
      "|00010242fe8c5a6d1...| 58.9|        13.29|        72.19|\n",
      "|00010242fe8c5a6d1...| 58.9|        13.29|        72.19|\n",
      "|00010242fe8c5a6d1...| 58.9|        13.29|        72.19|\n",
      "|00010242fe8c5a6d1...| 58.9|        13.29|        72.19|\n",
      "+--------------------+-----+-------------+-------------+\n",
      "only showing top 5 rows\n",
      "\n"
     ]
    }
   ],
   "source": [
    "complete_df = complete_df.withColumn('order_revenue', col('price') + col('freight_value'))\n",
    "complete_df.select('order_id', 'price', 'freight_value', 'order_revenue').show(5)"
   ]
  },
  {
   "cell_type": "code",
   "execution_count": 100,
   "id": "47a4a2ba-04d5-4f91-8ce2-b88171c9a086",
   "metadata": {
    "tags": []
   },
   "outputs": [],
   "source": [
    "customer_spending_df = customer_spending_df.withColumn('customer_segment', \n",
    "                                                       when(col('AOV') >= 1200, 'High-value')\n",
    "                                                      .when(col('AOV') <= 700, 'Low-value')\n",
    "                                                      .otherwise('Medium-value'))"
   ]
  },
  {
   "cell_type": "code",
   "execution_count": 101,
   "id": "067f73dc-492f-471e-903c-acc91df2e4a6",
   "metadata": {
    "tags": []
   },
   "outputs": [
    {
     "name": "stderr",
     "output_type": "stream",
     "text": [
      "[Stage 159:============================>                            (1 + 1) / 2]\r"
     ]
    },
    {
     "name": "stdout",
     "output_type": "stream",
     "text": [
      "+--------------------+------------+-----------+------+----------------+\n",
      "|         customer_id|total_orders|total_spent|   AOV|customer_segment|\n",
      "+--------------------+------------+-----------+------+----------------+\n",
      "|d3e82ccec3cb5f956...|        6876|  6662844.0| 969.0|    Medium-value|\n",
      "|df55c14d1476a9a34...|         743|  3565657.0|4799.0|      High-value|\n",
      "|fe5113a38e3575c04...|        2292|  3293604.0|1437.0|      High-value|\n",
      "|ec5b2ba62e5743423...|        1428|  2556120.0|1790.0|      High-value|\n",
      "|63b964e79dee32a35...|        6072|  2501664.0| 412.0|       Low-value|\n",
      "+--------------------+------------+-----------+------+----------------+\n",
      "only showing top 5 rows\n",
      "\n"
     ]
    },
    {
     "name": "stderr",
     "output_type": "stream",
     "text": [
      "                                                                                \r"
     ]
    }
   ],
   "source": [
    "customer_spending_df.show(5)"
   ]
  },
  {
   "cell_type": "markdown",
   "id": "645f5a7a-6400-4660-8ed8-766665f95b87",
   "metadata": {},
   "source": [
    "integrating this into our main dataset"
   ]
  },
  {
   "cell_type": "code",
   "execution_count": 82,
   "id": "d5baabdb-67f9-4b10-bd3a-5d74e929699c",
   "metadata": {
    "tags": []
   },
   "outputs": [
    {
     "name": "stderr",
     "output_type": "stream",
     "text": [
      "                                                                                \r"
     ]
    },
    {
     "name": "stdout",
     "output_type": "stream",
     "text": [
      "+--------------------+--------------------+--------------------+--------------------+------------+------------------------+-------------------+----------------------------+-----------------------------+-----------------------------+-------------+-------------------+-----+-------------+---------------------+-------------------+--------------------------+------------------+----------------+-----------------+-----------------+----------------+----------------------+-------------+------------+--------------------+------------------------+--------------------+--------------+---------------------------+-------------------+------------------+--------------------+-----------------+--------------------+------------+--------------------+----------------------+--------------------+-----------------------+------------------+------------+--------------------+-------------+------------+-----------+-------------+----------------+\n",
      "|         customer_id|            order_id|           seller_id|          product_id|order_status|order_purchase_timestamp|  order_approved_at|order_delivered_carrier_date|order_delivered_customer_date|order_estimated_delivery_date|order_item_id|shipping_limit_date|price|freight_value|product_category_name|product_name_lenght|product_description_lenght|product_photos_qty|product_weight_g|product_length_cm|product_height_cm|product_width_cm|seller_zip_code_prefix|  seller_city|seller_state|  customer_unique_id|customer_zip_code_prefix|       customer_city|customer_state|geolocation_zip_code_prefix|    geolocation_lat|   geolocation_lng|    geolocation_city|geolocation_state|           review_id|review_score|review_comment_title|review_comment_message|review_creation_date|review_answer_timestamp|payment_sequential|payment_type|payment_installments|payment_value|is_delivered|is_canceled|order_revenue|customer_segment|\n",
      "+--------------------+--------------------+--------------------+--------------------+------------+------------------------+-------------------+----------------------------+-----------------------------+-----------------------------+-------------+-------------------+-----+-------------+---------------------+-------------------+--------------------------+------------------+----------------+-----------------+-----------------+----------------+----------------------+-------------+------------+--------------------+------------------------+--------------------+--------------+---------------------------+-------------------+------------------+--------------------+-----------------+--------------------+------------+--------------------+----------------------+--------------------+-----------------------+------------------+------------+--------------------+-------------+------------+-----------+-------------+----------------+\n",
      "|3ce436f183e68e078...|00010242fe8c5a6d1...|48436dade18ac8b2b...|4244733e06e7ecb49...|   delivered|     2017-09-13 08:59:02|2017-09-13 09:45:35|         2017-09-19 18:34:16|          2017-09-20 23:43:48|          2017-09-29 00:00:00|            1|2017-09-19 09:45:35| 58.9|        13.29|           cool_stuff|                 58|                       598|                 4|             650|               28|                9|              14|                 27277|volta redonda|          SP|871766c5855e863f6...|                   28013|campos dos goytac...|            RJ|                      28013|-21.764608892016373|-41.31613356168864|campos dos goytac...|               RJ|97ca439bc427b48bc...|           5|                NULL|  Perfeito, produto...| 2017-09-21 00:00:00|    2017-09-22 10:57:03|                 1| credit_card|                   2|        72.19|           1|          0|        72.19|       Low-value|\n",
      "|3ce436f183e68e078...|00010242fe8c5a6d1...|48436dade18ac8b2b...|4244733e06e7ecb49...|   delivered|     2017-09-13 08:59:02|2017-09-13 09:45:35|         2017-09-19 18:34:16|          2017-09-20 23:43:48|          2017-09-29 00:00:00|            1|2017-09-19 09:45:35| 58.9|        13.29|           cool_stuff|                 58|                       598|                 4|             650|               28|                9|              14|                 27277|volta redonda|          SP|871766c5855e863f6...|                   28013|campos dos goytac...|            RJ|                      28013| -21.76262802005579|-41.30919042744362|campos dos goytac...|               RJ|97ca439bc427b48bc...|           5|                NULL|  Perfeito, produto...| 2017-09-21 00:00:00|    2017-09-22 10:57:03|                 1| credit_card|                   2|        72.19|           1|          0|        72.19|       Low-value|\n",
      "|3ce436f183e68e078...|00010242fe8c5a6d1...|48436dade18ac8b2b...|4244733e06e7ecb49...|   delivered|     2017-09-13 08:59:02|2017-09-13 09:45:35|         2017-09-19 18:34:16|          2017-09-20 23:43:48|          2017-09-29 00:00:00|            1|2017-09-19 09:45:35| 58.9|        13.29|           cool_stuff|                 58|                       598|                 4|             650|               28|                9|              14|                 27277|volta redonda|          SP|871766c5855e863f6...|                   28013|campos dos goytac...|            RJ|                      28013|-21.767660649703075|-41.30546005413282|campos dos goytac...|               RJ|97ca439bc427b48bc...|           5|                NULL|  Perfeito, produto...| 2017-09-21 00:00:00|    2017-09-22 10:57:03|                 1| credit_card|                   2|        72.19|           1|          0|        72.19|       Low-value|\n",
      "|3ce436f183e68e078...|00010242fe8c5a6d1...|48436dade18ac8b2b...|4244733e06e7ecb49...|   delivered|     2017-09-13 08:59:02|2017-09-13 09:45:35|         2017-09-19 18:34:16|          2017-09-20 23:43:48|          2017-09-29 00:00:00|            1|2017-09-19 09:45:35| 58.9|        13.29|           cool_stuff|                 58|                       598|                 4|             650|               28|                9|              14|                 27277|volta redonda|          SP|871766c5855e863f6...|                   28013|campos dos goytac...|            RJ|                      28013|         -21.758679|-41.30023949999999|campos dos goytac...|               RJ|97ca439bc427b48bc...|           5|                NULL|  Perfeito, produto...| 2017-09-21 00:00:00|    2017-09-22 10:57:03|                 1| credit_card|                   2|        72.19|           1|          0|        72.19|       Low-value|\n",
      "|3ce436f183e68e078...|00010242fe8c5a6d1...|48436dade18ac8b2b...|4244733e06e7ecb49...|   delivered|     2017-09-13 08:59:02|2017-09-13 09:45:35|         2017-09-19 18:34:16|          2017-09-20 23:43:48|          2017-09-29 00:00:00|            1|2017-09-19 09:45:35| 58.9|        13.29|           cool_stuff|                 58|                       598|                 4|             650|               28|                9|              14|                 27277|volta redonda|          SP|871766c5855e863f6...|                   28013|campos dos goytac...|            RJ|                      28013| -21.75767533100213|-41.30746243547162|campos dos goytac...|               RJ|97ca439bc427b48bc...|           5|                NULL|  Perfeito, produto...| 2017-09-21 00:00:00|    2017-09-22 10:57:03|                 1| credit_card|                   2|        72.19|           1|          0|        72.19|       Low-value|\n",
      "+--------------------+--------------------+--------------------+--------------------+------------+------------------------+-------------------+----------------------------+-----------------------------+-----------------------------+-------------+-------------------+-----+-------------+---------------------+-------------------+--------------------------+------------------+----------------+-----------------+-----------------+----------------+----------------------+-------------+------------+--------------------+------------------------+--------------------+--------------+---------------------------+-------------------+------------------+--------------------+-----------------+--------------------+------------+--------------------+----------------------+--------------------+-----------------------+------------------+------------+--------------------+-------------+------------+-----------+-------------+----------------+\n",
      "only showing top 5 rows\n",
      "\n"
     ]
    }
   ],
   "source": [
    "complete_df = complete_df.join(customer_spending_df.select('customer_id', 'customer_segment'), 'customer_id', how = 'left')\n",
    "complete_df.show(5)"
   ]
  },
  {
   "cell_type": "code",
   "execution_count": 85,
   "id": "52e45bbe-6d8f-46b6-8be2-341610612c0f",
   "metadata": {
    "tags": []
   },
   "outputs": [
    {
     "name": "stdout",
     "output_type": "stream",
     "text": [
      "+------------------------+--------------+\n",
      "|order_purchase_timestamp|order_day_type|\n",
      "+------------------------+--------------+\n",
      "|     2017-09-13 08:59:02|       Weekday|\n",
      "|     2017-09-13 08:59:02|       Weekday|\n",
      "|     2017-09-13 08:59:02|       Weekday|\n",
      "|     2017-09-13 08:59:02|       Weekday|\n",
      "|     2017-09-13 08:59:02|       Weekday|\n",
      "|     2017-09-13 08:59:02|       Weekday|\n",
      "|     2017-09-13 08:59:02|       Weekday|\n",
      "|     2017-09-13 08:59:02|       Weekday|\n",
      "|     2017-09-13 08:59:02|       Weekday|\n",
      "|     2017-09-13 08:59:02|       Weekday|\n",
      "|     2017-09-13 08:59:02|       Weekday|\n",
      "|     2017-09-13 08:59:02|       Weekday|\n",
      "|     2017-09-13 08:59:02|       Weekday|\n",
      "|     2017-09-13 08:59:02|       Weekday|\n",
      "|     2017-09-13 08:59:02|       Weekday|\n",
      "|     2017-09-13 08:59:02|       Weekday|\n",
      "|     2017-09-13 08:59:02|       Weekday|\n",
      "|     2017-09-13 08:59:02|       Weekday|\n",
      "|     2017-09-13 08:59:02|       Weekday|\n",
      "|     2017-09-13 08:59:02|       Weekday|\n",
      "+------------------------+--------------+\n",
      "only showing top 20 rows\n",
      "\n"
     ]
    }
   ],
   "source": [
    "# weekend vs weekday orders\n",
    "\n",
    "complete_df = complete_df.withColumn('order_day_type',\n",
    "                                   when(dayofweek('order_purchase_timestamp').isin(1,7), lit('Weekend')).otherwise(lit('Weekday')))\n",
    "complete_df.select('order_purchase_timestamp','order_day_type').show()"
   ]
  },
  {
   "cell_type": "code",
   "execution_count": 91,
   "id": "d610acee-f4d7-400d-b535-e16c78921293",
   "metadata": {
    "tags": []
   },
   "outputs": [
    {
     "name": "stdout",
     "output_type": "stream",
     "text": [
      "+-------------+\n",
      "|freight_value|\n",
      "+-------------+\n",
      "|       409.68|\n",
      "|       409.68|\n",
      "|       409.68|\n",
      "|       409.68|\n",
      "|       409.68|\n",
      "|       409.68|\n",
      "|       409.68|\n",
      "|       409.68|\n",
      "|       409.68|\n",
      "|       409.68|\n",
      "|       409.68|\n",
      "|       409.68|\n",
      "|       409.68|\n",
      "|       409.68|\n",
      "|       409.68|\n",
      "|       409.68|\n",
      "|       409.68|\n",
      "|       409.68|\n",
      "|       409.68|\n",
      "|       409.68|\n",
      "+-------------+\n",
      "only showing top 20 rows\n",
      "\n"
     ]
    }
   ],
   "source": [
    "complete_df.select('freight_value').orderBy(desc('freight_value')).show()"
   ]
  },
  {
   "cell_type": "code",
   "execution_count": 103,
   "id": "ef4641a9-34cc-4e5c-a2eb-d8ca19e1ff94",
   "metadata": {
    "tags": []
   },
   "outputs": [],
   "source": [
    "# freight category\n",
    "\n",
    "freight_df = complete_df.select('customer_id', 'freight_value').withColumn('freight_category', \n",
    "                                                       when(col('freight_value') >= 350, 'High-value')\n",
    "                                                      .when(col('freight_value') <= 50, 'Low-value')\n",
    "                                                      .otherwise('Medium-value'))"
   ]
  },
  {
   "cell_type": "code",
   "execution_count": 104,
   "id": "b55edc74-9430-4a55-91d0-72cb376d91a6",
   "metadata": {
    "tags": []
   },
   "outputs": [
    {
     "name": "stdout",
     "output_type": "stream",
     "text": [
      "+--------------------+-------------+----------------+\n",
      "|         customer_id|freight_value|freight_category|\n",
      "+--------------------+-------------+----------------+\n",
      "|3ce436f183e68e078...|        13.29|       Low-value|\n",
      "|3ce436f183e68e078...|        13.29|       Low-value|\n",
      "|3ce436f183e68e078...|        13.29|       Low-value|\n",
      "|3ce436f183e68e078...|        13.29|       Low-value|\n",
      "|3ce436f183e68e078...|        13.29|       Low-value|\n",
      "+--------------------+-------------+----------------+\n",
      "only showing top 5 rows\n",
      "\n"
     ]
    }
   ],
   "source": [
    "freight_df.show(5)"
   ]
  },
  {
   "cell_type": "code",
   "execution_count": 105,
   "id": "6dae2d0d-39d2-4b71-b182-94816fa293e3",
   "metadata": {
    "tags": []
   },
   "outputs": [
    {
     "name": "stderr",
     "output_type": "stream",
     "text": [
      "[Stage 167:>                                                        (0 + 1) / 1]\r"
     ]
    },
    {
     "name": "stdout",
     "output_type": "stream",
     "text": [
      "+--------------------+------------+-----------+------+----------------+----------------+\n",
      "|         customer_id|total_orders|total_spent|   AOV|customer_segment|freight_category|\n",
      "+--------------------+------------+-----------+------+----------------+----------------+\n",
      "|136f8c475ac7abd11...|          14|    2099.86|149.99|       Low-value|    Medium-value|\n",
      "|136f8c475ac7abd11...|          14|    2099.86|149.99|       Low-value|    Medium-value|\n",
      "|136f8c475ac7abd11...|          14|    2099.86|149.99|       Low-value|    Medium-value|\n",
      "|136f8c475ac7abd11...|          14|    2099.86|149.99|       Low-value|    Medium-value|\n",
      "|136f8c475ac7abd11...|          14|    2099.86|149.99|       Low-value|    Medium-value|\n",
      "+--------------------+------------+-----------+------+----------------+----------------+\n",
      "only showing top 5 rows\n",
      "\n"
     ]
    },
    {
     "name": "stderr",
     "output_type": "stream",
     "text": [
      "                                                                                \r"
     ]
    }
   ],
   "source": [
    "customer_spending_df = customer_spending_df.join(freight_df.select('customer_id','freight_category'), 'customer_id', how = 'left')\n",
    "customer_spending_df.show(5)"
   ]
  },
  {
   "cell_type": "code",
   "execution_count": 107,
   "id": "d964f55f-980d-4cda-b387-e5ad95b79ba4",
   "metadata": {
    "tags": []
   },
   "outputs": [
    {
     "name": "stderr",
     "output_type": "stream",
     "text": [
      "[Stage 174:============================>                            (1 + 1) / 2]\r"
     ]
    },
    {
     "name": "stdout",
     "output_type": "stream",
     "text": [
      "+--------------+------------+\n",
      "|customer_state|total_orders|\n",
      "+--------------+------------+\n",
      "|            AC|          81|\n",
      "|            AL|         411|\n",
      "|            AM|         147|\n",
      "|            AP|          68|\n",
      "|            BA|        3358|\n",
      "|            CE|        1327|\n",
      "|            DF|        2125|\n",
      "|            ES|        2025|\n",
      "|            GO|        2007|\n",
      "|            MA|         740|\n",
      "|            MG|       11544|\n",
      "|            MS|         709|\n",
      "|            MT|         903|\n",
      "|            PA|         970|\n",
      "|            PB|         532|\n",
      "|            PE|        1648|\n",
      "|            PI|         493|\n",
      "|            PR|        4998|\n",
      "|            RJ|       12762|\n",
      "|            RN|         482|\n",
      "+--------------+------------+\n",
      "only showing top 20 rows\n",
      "\n"
     ]
    },
    {
     "name": "stderr",
     "output_type": "stream",
     "text": [
      "                                                                                \r"
     ]
    }
   ],
   "source": [
    "# Order Volume by Customer State\n",
    "\n",
    "order_volume_by_state = complete_df.groupBy('customer_state').agg(countDistinct('order_id').alias('total_orders')).orderBy('customer_state')\n",
    "order_volume_by_state.show()"
   ]
  },
  {
   "cell_type": "code",
   "execution_count": 108,
   "id": "3587e058-ea4d-4e0f-8f63-3017e893fb05",
   "metadata": {
    "tags": []
   },
   "outputs": [],
   "source": [
    "!hadoop fs -mkdir /data/olist/olist-merged/"
   ]
  },
  {
   "cell_type": "code",
   "execution_count": 110,
   "id": "e7e793cb-750d-4d6b-8199-6b717f0a4aea",
   "metadata": {
    "tags": []
   },
   "outputs": [
    {
     "name": "stderr",
     "output_type": "stream",
     "text": [
      "                                                                                \r"
     ]
    }
   ],
   "source": [
    "complete_df.write.mode('overwrite').parquet('/data/olist/olist-merged')"
   ]
  }
 ],
 "metadata": {
  "kernelspec": {
   "display_name": "PySpark",
   "language": "python",
   "name": "pyspark"
  },
  "language_info": {
   "codemirror_mode": {
    "name": "ipython",
    "version": 3
   },
   "file_extension": ".py",
   "mimetype": "text/x-python",
   "name": "python",
   "nbconvert_exporter": "python",
   "pygments_lexer": "ipython3",
   "version": "3.11.8"
  }
 },
 "nbformat": 4,
 "nbformat_minor": 5
}
