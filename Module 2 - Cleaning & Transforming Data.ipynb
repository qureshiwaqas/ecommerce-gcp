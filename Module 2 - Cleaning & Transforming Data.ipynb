{
 "cells": [
  {
   "cell_type": "markdown",
   "id": "37555f10-44c1-4a4a-b492-09d371294481",
   "metadata": {},
   "source": [
    "# Module 2 - Cleaning & Transforming Data"
   ]
  },
  {
   "cell_type": "markdown",
   "id": "c360465e-a0f0-496a-9968-1bfbb8fc4f51",
   "metadata": {
    "tags": []
   },
   "source": [
    "## Loading Data"
   ]
  },
  {
   "cell_type": "code",
   "execution_count": 1,
   "id": "5e628a73-ff4c-486c-a887-9b0998fce75f",
   "metadata": {
    "tags": []
   },
   "outputs": [
    {
     "name": "stderr",
     "output_type": "stream",
     "text": [
      "25/05/22 17:44:10 WARN SparkSession: Using an existing Spark session; only runtime SQL configurations will take effect.\n"
     ]
    }
   ],
   "source": [
    "from pyspark.sql import SparkSession\n",
    "\n",
    "spark = SparkSession.builder.appName('OlistData').getOrCreate()"
   ]
  },
  {
   "cell_type": "code",
   "execution_count": 2,
   "id": "4e853152-c218-4f80-a9de-0875b318f60c",
   "metadata": {
    "tags": []
   },
   "outputs": [],
   "source": [
    "hdfs_path = '/data/olist/'"
   ]
  },
  {
   "cell_type": "code",
   "execution_count": 3,
   "id": "bc18adae-2b3c-41d9-bc91-d7ade38c3856",
   "metadata": {
    "tags": []
   },
   "outputs": [
    {
     "name": "stderr",
     "output_type": "stream",
     "text": [
      "                                                                                \r"
     ]
    }
   ],
   "source": [
    "customers_df = spark.read.csv(hdfs_path + 'olist_customers_dataset.csv', inferSchema='true', header='true')\n",
    "geolocation_df = spark.read.csv(hdfs_path + 'olist_geolocation_dataset.csv', inferSchema='true', header='true')\n",
    "order_items_df = spark.read.csv(hdfs_path + 'olist_order_items_dataset.csv', inferSchema='true', header='true')\n",
    "order_payments_df = spark.read.csv(hdfs_path + 'olist_order_payments_dataset.csv', inferSchema='true', header='true')\n",
    "order_reviews_df = spark.read.csv(hdfs_path + 'olist_order_reviews_dataset.csv', inferSchema='true', header='true')\n",
    "orders_df = spark.read.csv(hdfs_path + 'olist_orders_dataset.csv', inferSchema='true', header='true')\n",
    "products_df = spark.read.csv(hdfs_path + 'olist_products_dataset.csv', inferSchema='true', header='true')\n",
    "sellers_df = spark.read.csv(hdfs_path + 'olist_sellers_dataset.csv', inferSchema='true', header='true')\n",
    "product_category_translation_df = spark.read.csv(hdfs_path + 'product_category_name_translation.csv', inferSchema='true', header='true')"
   ]
  },
  {
   "cell_type": "markdown",
   "id": "c9b3de0a-ecb2-474b-807f-3991fd51820c",
   "metadata": {
    "jp-MarkdownHeadingCollapsed": true,
    "tags": []
   },
   "source": [
    "## Identifying missing values"
   ]
  },
  {
   "cell_type": "code",
   "execution_count": 4,
   "id": "c9a382c5-403e-4080-8060-6fd9ed57a718",
   "metadata": {
    "tags": []
   },
   "outputs": [],
   "source": [
    "from pyspark.sql.functions import *\n",
    "\n",
    "def missing_values(df, df_name):\n",
    "    print(f'Missing values in {df_name} :')\n",
    "    df.select([count(when(col(c).isNull(), 1)).alias(c)\n",
    "    for c in df.columns]).show()"
   ]
  },
  {
   "cell_type": "code",
   "execution_count": 6,
   "id": "50eb8343-163f-4693-953f-8778db7ec9ca",
   "metadata": {
    "tags": []
   },
   "outputs": [
    {
     "name": "stdout",
     "output_type": "stream",
     "text": [
      "Missing values in customer :\n",
      "+-----------+------------------+------------------------+-------------+--------------+\n",
      "|customer_id|customer_unique_id|customer_zip_code_prefix|customer_city|customer_state|\n",
      "+-----------+------------------+------------------------+-------------+--------------+\n",
      "|          0|                 0|                       0|            0|             0|\n",
      "+-----------+------------------+------------------------+-------------+--------------+\n",
      "\n"
     ]
    }
   ],
   "source": [
    "# missing values in customer\n",
    "missing_values(customers_df, 'customer')"
   ]
  },
  {
   "cell_type": "code",
   "execution_count": 8,
   "id": "2ca0e50a-e07e-4abe-a37d-0e00f3aed63d",
   "metadata": {
    "tags": []
   },
   "outputs": [
    {
     "name": "stdout",
     "output_type": "stream",
     "text": [
      "Missing values in sellers :\n",
      "+---------+----------------------+-----------+------------+\n",
      "|seller_id|seller_zip_code_prefix|seller_city|seller_state|\n",
      "+---------+----------------------+-----------+------------+\n",
      "|        0|                     0|          0|           0|\n",
      "+---------+----------------------+-----------+------------+\n",
      "\n"
     ]
    }
   ],
   "source": [
    "# missing values in sellers\n",
    "missing_values(sellers_df, 'sellers')"
   ]
  },
  {
   "cell_type": "code",
   "execution_count": 11,
   "id": "46bbf312-ef49-4d29-a615-8903b882e1fb",
   "metadata": {
    "tags": []
   },
   "outputs": [
    {
     "name": "stdout",
     "output_type": "stream",
     "text": [
      "Missing values in payments :\n"
     ]
    },
    {
     "name": "stderr",
     "output_type": "stream",
     "text": [
      "[Stage 33:=============================>                            (1 + 1) / 2]\r"
     ]
    },
    {
     "name": "stdout",
     "output_type": "stream",
     "text": [
      "+--------+------------------+------------+--------------------+-------------+\n",
      "|order_id|payment_sequential|payment_type|payment_installments|payment_value|\n",
      "+--------+------------------+------------+--------------------+-------------+\n",
      "|       0|                 0|           0|                   0|            0|\n",
      "+--------+------------------+------------+--------------------+-------------+\n",
      "\n"
     ]
    },
    {
     "name": "stderr",
     "output_type": "stream",
     "text": [
      "                                                                                \r"
     ]
    }
   ],
   "source": [
    "missing_values(order_payments_df, 'payments')"
   ]
  },
  {
   "cell_type": "code",
   "execution_count": 7,
   "id": "1eb0407b-f945-41ac-8513-305f554fb886",
   "metadata": {
    "tags": []
   },
   "outputs": [
    {
     "name": "stdout",
     "output_type": "stream",
     "text": [
      "Missing values in orders :\n",
      "+--------+-----------+------------+------------------------+-----------------+----------------------------+-----------------------------+-----------------------------+\n",
      "|order_id|customer_id|order_status|order_purchase_timestamp|order_approved_at|order_delivered_carrier_date|order_delivered_customer_date|order_estimated_delivery_date|\n",
      "+--------+-----------+------------+------------------------+-----------------+----------------------------+-----------------------------+-----------------------------+\n",
      "|       0|          0|           0|                       0|              160|                        1783|                         2965|                            0|\n",
      "+--------+-----------+------------+------------------------+-----------------+----------------------------+-----------------------------+-----------------------------+\n",
      "\n"
     ]
    }
   ],
   "source": [
    "# missing values in order\n",
    "missing_values(orders_df, 'orders')"
   ]
  },
  {
   "cell_type": "code",
   "execution_count": 9,
   "id": "29a5a89d-d054-47dc-a76d-fa4965100997",
   "metadata": {
    "tags": []
   },
   "outputs": [
    {
     "name": "stdout",
     "output_type": "stream",
     "text": [
      "Missing values in products :\n",
      "+----------+---------------------+-------------------+--------------------------+------------------+----------------+-----------------+-----------------+----------------+\n",
      "|product_id|product_category_name|product_name_lenght|product_description_lenght|product_photos_qty|product_weight_g|product_length_cm|product_height_cm|product_width_cm|\n",
      "+----------+---------------------+-------------------+--------------------------+------------------+----------------+-----------------+-----------------+----------------+\n",
      "|         0|                  610|                610|                       610|               610|               2|                2|                2|               2|\n",
      "+----------+---------------------+-------------------+--------------------------+------------------+----------------+-----------------+-----------------+----------------+\n",
      "\n"
     ]
    }
   ],
   "source": [
    "# missing values in products\n",
    "missing_values(products_df, 'products')"
   ]
  },
  {
   "cell_type": "markdown",
   "id": "580fec40-f219-49fc-b8f6-0db85909d833",
   "metadata": {},
   "source": [
    "- need to handle for 'order_delivered_customer_date' and 'order_delivered_carrier_date' in *orders* and the 610 missing values in *products*"
   ]
  },
  {
   "cell_type": "markdown",
   "id": "25d63719-637a-4d1f-9c9b-03f56f674126",
   "metadata": {
    "jp-MarkdownHeadingCollapsed": true,
    "tags": []
   },
   "source": [
    "## Handling missing values\n",
    "To handle missing values we can either \n",
    "- drop them\n",
    "- fill missing values (numerical columns) with some constant \n",
    "- impute missing values (continuous data) with mean, median, etc."
   ]
  },
  {
   "cell_type": "code",
   "execution_count": 15,
   "id": "b626c6ca-53f7-40de-8407-712f3ff46568",
   "metadata": {
    "tags": []
   },
   "outputs": [
    {
     "name": "stdout",
     "output_type": "stream",
     "text": [
      "Missing values in cleaned products :\n",
      "+----------+---------------------+-------------------+--------------------------+------------------+----------------+-----------------+-----------------+----------------+\n",
      "|product_id|product_category_name|product_name_lenght|product_description_lenght|product_photos_qty|product_weight_g|product_length_cm|product_height_cm|product_width_cm|\n",
      "+----------+---------------------+-------------------+--------------------------+------------------+----------------+-----------------+-----------------+----------------+\n",
      "|         0|                    0|                  0|                         0|                 0|               0|                0|                0|               0|\n",
      "+----------+---------------------+-------------------+--------------------------+------------------+----------------+-----------------+-----------------+----------------+\n",
      "\n"
     ]
    }
   ],
   "source": [
    "products_df_cleaned = products_df.na.drop(subset = ['product_name_lenght', 'product_weight_g'])\n",
    "missing_values(products_df_cleaned, 'cleaned products')"
   ]
  },
  {
   "cell_type": "markdown",
   "id": "7c592820-82b5-4d04-8ce9-bb69c0a75c05",
   "metadata": {},
   "source": [
    "cleaned the products dataframe succesfully by dropping na values"
   ]
  },
  {
   "cell_type": "code",
   "execution_count": 18,
   "id": "806af185-e277-47af-ae6f-cf2cf0ddd699",
   "metadata": {
    "tags": []
   },
   "outputs": [],
   "source": [
    "# fill with a constant value for the two cols of the orders dataframe\n",
    "orders_df_cleaned = orders_df.fillna({'order_delivered_customer_date':'9999-12-31','order_delivered_carrier_date':'9999-12-31','order_approved_at':'9999-12-31'})"
   ]
  },
  {
   "cell_type": "code",
   "execution_count": 19,
   "id": "e1b0491d-fd39-40de-8a92-bd9ebfbb7bd3",
   "metadata": {
    "tags": []
   },
   "outputs": [
    {
     "name": "stdout",
     "output_type": "stream",
     "text": [
      "Missing values in cleaned orders :\n",
      "+--------+-----------+------------+------------------------+-----------------+----------------------------+-----------------------------+-----------------------------+\n",
      "|order_id|customer_id|order_status|order_purchase_timestamp|order_approved_at|order_delivered_carrier_date|order_delivered_customer_date|order_estimated_delivery_date|\n",
      "+--------+-----------+------------+------------------------+-----------------+----------------------------+-----------------------------+-----------------------------+\n",
      "|       0|          0|           0|                       0|                0|                           0|                            0|                            0|\n",
      "+--------+-----------+------------+------------------------+-----------------+----------------------------+-----------------------------+-----------------------------+\n",
      "\n"
     ]
    }
   ],
   "source": [
    "missing_values(orders_df_cleaned, 'cleaned orders')"
   ]
  },
  {
   "cell_type": "markdown",
   "id": "940d7b74-7fd3-4728-97ac-c29858a6ae07",
   "metadata": {},
   "source": [
    "replaced the missing dates with an extremely large number"
   ]
  },
  {
   "cell_type": "code",
   "execution_count": 23,
   "id": "82671269-418d-4797-b070-b2031269b1b3",
   "metadata": {
    "tags": []
   },
   "outputs": [
    {
     "name": "stdout",
     "output_type": "stream",
     "text": [
      "Missing values in reviews :\n"
     ]
    },
    {
     "name": "stderr",
     "output_type": "stream",
     "text": [
      "                                                                                \r"
     ]
    },
    {
     "name": "stdout",
     "output_type": "stream",
     "text": [
      "+---------+--------+------------+--------------------+----------------------+--------------------+-----------------------+\n",
      "|review_id|order_id|review_score|review_comment_title|review_comment_message|review_creation_date|review_answer_timestamp|\n",
      "+---------+--------+------------+--------------------+----------------------+--------------------+-----------------------+\n",
      "|        1|    2236|        2380|               92157|                 63079|                8764|                   8785|\n",
      "+---------+--------+------------+--------------------+----------------------+--------------------+-----------------------+\n",
      "\n"
     ]
    }
   ],
   "source": [
    "# missing values in sellers\n",
    "missing_values(order_reviews_df, 'reviews')"
   ]
  },
  {
   "cell_type": "code",
   "execution_count": 46,
   "id": "00fea0f1-e4fb-4425-9232-f4e4b9f87f85",
   "metadata": {
    "tags": []
   },
   "outputs": [
    {
     "name": "stdout",
     "output_type": "stream",
     "text": [
      "Missing values in cleaned reviews :\n",
      "+---------+--------+------------+--------------------+----------------------+--------------------+-----------------------+\n",
      "|review_id|order_id|review_score|review_comment_title|review_comment_message|review_creation_date|review_answer_timestamp|\n",
      "+---------+--------+------------+--------------------+----------------------+--------------------+-----------------------+\n",
      "|        0|       0|         144|               89922|                 60843|                6528|                   6548|\n",
      "+---------+--------+------------+--------------------+----------------------+--------------------+-----------------------+\n",
      "\n"
     ]
    }
   ],
   "source": [
    "reviews_df_cleaned = order_reviews_df.na.drop(subset = ['order_id','review_id'])\n",
    "missing_values(reviews_df_cleaned, 'cleaned reviews')"
   ]
  },
  {
   "cell_type": "code",
   "execution_count": 47,
   "id": "1d4b409d-b4e4-4403-86fa-130f293e5cdf",
   "metadata": {
    "tags": []
   },
   "outputs": [
    {
     "name": "stdout",
     "output_type": "stream",
     "text": [
      "Missing values in cleaned reviews :\n",
      "+---------+--------+------------+--------------------+----------------------+--------------------+-----------------------+--------------------+\n",
      "|review_id|order_id|review_score|review_comment_title|review_comment_message|review_creation_date|review_answer_timestamp|review_score_imputed|\n",
      "+---------+--------+------------+--------------------+----------------------+--------------------+-----------------------+--------------------+\n",
      "|        0|       0|        2698|               89922|                 60843|                6528|                   6548|                   0|\n",
      "+---------+--------+------------+--------------------+----------------------+--------------------+-----------------------+--------------------+\n",
      "\n"
     ]
    }
   ],
   "source": [
    "from pyspark.ml.feature import Imputer\n",
    "from pyspark.sql.functions import col \n",
    "\n",
    "reviews_df_cleaned = reviews_df_cleaned.withColumn(\"review_score\", col(\"review_score\").cast(\"int\"))\n",
    "\n",
    "imputer = Imputer(inputCols=['review_score'],outputCols=['review_score_imputed']).setStrategy('median')\n",
    "reviews_df_cleaned = imputer.fit(reviews_df_cleaned).transform(reviews_df_cleaned)\n",
    "missing_values(reviews_df_cleaned, 'cleaned reviews')"
   ]
  },
  {
   "cell_type": "markdown",
   "id": "fd01aea6-613d-4312-8aa3-2c3a0c43a9b2",
   "metadata": {},
   "source": [
    "missing values increased after casting to int\n",
    "likely due to corrupt data"
   ]
  },
  {
   "cell_type": "code",
   "execution_count": 48,
   "id": "78becda1-b9a9-4b3a-9043-114432b32ed1",
   "metadata": {
    "tags": []
   },
   "outputs": [
    {
     "name": "stdout",
     "output_type": "stream",
     "text": [
      "+-------------------+-----+\n",
      "|       review_score|count|\n",
      "+-------------------+-----+\n",
      "|                  5|57328|\n",
      "|                  4|19142|\n",
      "|                  1|11424|\n",
      "|                  3| 8179|\n",
      "|                  2| 3151|\n",
      "|               NULL| 2380|\n",
      "|2018-05-19 00:00:00|    5|\n",
      "|2017-12-29 00:00:00|    4|\n",
      "|2018-02-01 00:00:00|    4|\n",
      "|2018-01-04 00:00:00|    4|\n",
      "+-------------------+-----+\n",
      "only showing top 10 rows\n",
      "\n"
     ]
    }
   ],
   "source": [
    "order_reviews_df.groupBy('review_score').count().orderBy('count', ascending = False).show(10)"
   ]
  },
  {
   "cell_type": "markdown",
   "id": "0b129e3c-3ff7-4480-b4c6-a50b127dbef2",
   "metadata": {},
   "source": [
    "corrupt data detected"
   ]
  },
  {
   "cell_type": "code",
   "execution_count": 49,
   "id": "2135df06-6fdd-49c6-a3b5-343f0e96aded",
   "metadata": {
    "tags": []
   },
   "outputs": [
    {
     "name": "stdout",
     "output_type": "stream",
     "text": [
      "Missing values in cleaned reviews :\n",
      "+---------+--------+------------+--------------------+----------------------+--------------------+-----------------------+--------------------+\n",
      "|review_id|order_id|review_score|review_comment_title|review_comment_message|review_creation_date|review_answer_timestamp|review_score_imputed|\n",
      "+---------+--------+------------+--------------------+----------------------+--------------------+-----------------------+--------------------+\n",
      "|        0|       0|           0|               87659|                 58250|                3853|                   3855|                   0|\n",
      "+---------+--------+------------+--------------------+----------------------+--------------------+-----------------------+--------------------+\n",
      "\n"
     ]
    },
    {
     "name": "stderr",
     "output_type": "stream",
     "text": [
      "                                                                                \r"
     ]
    }
   ],
   "source": [
    "reviews_df_cleaned = reviews_df_cleaned.na.drop(subset = ['review_score'])\n",
    "missing_values(reviews_df_cleaned, 'cleaned reviews')"
   ]
  },
  {
   "cell_type": "code",
   "execution_count": 50,
   "id": "b5e82504-7140-4199-a282-f388fe24ccf1",
   "metadata": {
    "tags": []
   },
   "outputs": [
    {
     "name": "stdout",
     "output_type": "stream",
     "text": [
      "Missing values in cleaned reviews :\n",
      "+---------+--------+------------+--------------------+----------------------+--------------------+-----------------------+--------------------+\n",
      "|review_id|order_id|review_score|review_comment_title|review_comment_message|review_creation_date|review_answer_timestamp|review_score_imputed|\n",
      "+---------+--------+------------+--------------------+----------------------+--------------------+-----------------------+--------------------+\n",
      "|        0|       0|           0|                   0|                     0|                3853|                   3855|                   0|\n",
      "+---------+--------+------------+--------------------+----------------------+--------------------+-----------------------+--------------------+\n",
      "\n"
     ]
    }
   ],
   "source": [
    "reviews_df_cleaned = reviews_df_cleaned.fillna({'review_comment_title':'empty','review_comment_message':'empty'})\n",
    "missing_values(reviews_df_cleaned, 'cleaned reviews')"
   ]
  },
  {
   "cell_type": "markdown",
   "id": "d0c1228e-4c26-407e-8d6c-8b8ea418d6f8",
   "metadata": {
    "tags": []
   },
   "source": [
    "## Verifying the schemas"
   ]
  },
  {
   "cell_type": "code",
   "execution_count": 51,
   "id": "b1d7944c-7ba4-4746-8cd2-eba4526badfd",
   "metadata": {
    "tags": []
   },
   "outputs": [
    {
     "name": "stdout",
     "output_type": "stream",
     "text": [
      "root\n",
      " |-- review_id: string (nullable = true)\n",
      " |-- order_id: string (nullable = true)\n",
      " |-- review_score: integer (nullable = true)\n",
      " |-- review_comment_title: string (nullable = false)\n",
      " |-- review_comment_message: string (nullable = false)\n",
      " |-- review_creation_date: string (nullable = true)\n",
      " |-- review_answer_timestamp: string (nullable = true)\n",
      " |-- review_score_imputed: integer (nullable = true)\n",
      "\n"
     ]
    }
   ],
   "source": [
    "reviews_df_cleaned.printSchema()"
   ]
  },
  {
   "cell_type": "code",
   "execution_count": 52,
   "id": "3be996bd-3ec6-4fbd-b072-9ce60014f3dd",
   "metadata": {
    "tags": []
   },
   "outputs": [
    {
     "name": "stdout",
     "output_type": "stream",
     "text": [
      "root\n",
      " |-- order_id: string (nullable = true)\n",
      " |-- customer_id: string (nullable = true)\n",
      " |-- order_status: string (nullable = true)\n",
      " |-- order_purchase_timestamp: timestamp (nullable = true)\n",
      " |-- order_approved_at: timestamp (nullable = true)\n",
      " |-- order_delivered_carrier_date: timestamp (nullable = true)\n",
      " |-- order_delivered_customer_date: timestamp (nullable = true)\n",
      " |-- order_estimated_delivery_date: timestamp (nullable = true)\n",
      "\n"
     ]
    }
   ],
   "source": [
    "orders_df_cleaned.printSchema()"
   ]
  },
  {
   "cell_type": "code",
   "execution_count": 53,
   "id": "aff6655d-82fd-43d7-865b-3f7756abdaa0",
   "metadata": {
    "tags": []
   },
   "outputs": [
    {
     "name": "stdout",
     "output_type": "stream",
     "text": [
      "root\n",
      " |-- product_id: string (nullable = true)\n",
      " |-- product_category_name: string (nullable = true)\n",
      " |-- product_name_lenght: integer (nullable = true)\n",
      " |-- product_description_lenght: integer (nullable = true)\n",
      " |-- product_photos_qty: integer (nullable = true)\n",
      " |-- product_weight_g: integer (nullable = true)\n",
      " |-- product_length_cm: integer (nullable = true)\n",
      " |-- product_height_cm: integer (nullable = true)\n",
      " |-- product_width_cm: integer (nullable = true)\n",
      "\n"
     ]
    }
   ],
   "source": [
    "products_df_cleaned.printSchema()"
   ]
  },
  {
   "cell_type": "code",
   "execution_count": 59,
   "id": "1464ee4f-69e7-4f03-9e05-075e6c6b6229",
   "metadata": {
    "tags": []
   },
   "outputs": [
    {
     "name": "stdout",
     "output_type": "stream",
     "text": [
      "root\n",
      " |-- customer_id: string (nullable = true)\n",
      " |-- customer_unique_id: string (nullable = true)\n",
      " |-- customer_zip_code_prefix: string (nullable = true)\n",
      " |-- customer_city: string (nullable = true)\n",
      " |-- customer_state: string (nullable = true)\n",
      "\n"
     ]
    }
   ],
   "source": [
    "customers_df.printSchema()"
   ]
  },
  {
   "cell_type": "code",
   "execution_count": 58,
   "id": "59faa3b6-d5a5-4066-af1f-077844947b02",
   "metadata": {
    "tags": []
   },
   "outputs": [],
   "source": [
    "customers_df = customers_df.withColumn('customer_zip_code_prefix',col('customer_zip_code_prefix').cast('string'))"
   ]
  },
  {
   "cell_type": "code",
   "execution_count": 60,
   "id": "119d4093-6687-4bf5-a47a-c6fc5d560d07",
   "metadata": {
    "tags": []
   },
   "outputs": [
    {
     "name": "stdout",
     "output_type": "stream",
     "text": [
      "root\n",
      " |-- geolocation_zip_code_prefix: integer (nullable = true)\n",
      " |-- geolocation_lat: double (nullable = true)\n",
      " |-- geolocation_lng: double (nullable = true)\n",
      " |-- geolocation_city: string (nullable = true)\n",
      " |-- geolocation_state: string (nullable = true)\n",
      "\n"
     ]
    }
   ],
   "source": [
    "geolocation_df.printSchema()"
   ]
  },
  {
   "cell_type": "code",
   "execution_count": 61,
   "id": "4c880123-622d-4201-a3d1-704efb65a4be",
   "metadata": {
    "tags": []
   },
   "outputs": [
    {
     "name": "stdout",
     "output_type": "stream",
     "text": [
      "root\n",
      " |-- order_id: string (nullable = true)\n",
      " |-- order_item_id: integer (nullable = true)\n",
      " |-- product_id: string (nullable = true)\n",
      " |-- seller_id: string (nullable = true)\n",
      " |-- shipping_limit_date: timestamp (nullable = true)\n",
      " |-- price: double (nullable = true)\n",
      " |-- freight_value: double (nullable = true)\n",
      "\n"
     ]
    }
   ],
   "source": [
    "order_items_df.printSchema()"
   ]
  },
  {
   "cell_type": "code",
   "execution_count": 62,
   "id": "f6548f03-ef6c-43a9-bb2d-798ccc08820a",
   "metadata": {
    "tags": []
   },
   "outputs": [
    {
     "name": "stdout",
     "output_type": "stream",
     "text": [
      "root\n",
      " |-- order_id: string (nullable = true)\n",
      " |-- payment_sequential: integer (nullable = true)\n",
      " |-- payment_type: string (nullable = true)\n",
      " |-- payment_installments: integer (nullable = true)\n",
      " |-- payment_value: double (nullable = true)\n",
      "\n"
     ]
    }
   ],
   "source": [
    "order_payments_df.printSchema()"
   ]
  },
  {
   "cell_type": "code",
   "execution_count": 66,
   "id": "7850993e-b74f-47d3-8b2b-b538fb236b17",
   "metadata": {
    "tags": []
   },
   "outputs": [
    {
     "name": "stdout",
     "output_type": "stream",
     "text": [
      "root\n",
      " |-- seller_id: string (nullable = true)\n",
      " |-- seller_zip_code_prefix: string (nullable = true)\n",
      " |-- seller_city: string (nullable = true)\n",
      " |-- seller_state: string (nullable = true)\n",
      "\n"
     ]
    }
   ],
   "source": [
    "sellers_df.printSchema()"
   ]
  },
  {
   "cell_type": "code",
   "execution_count": 65,
   "id": "b543db96-90c0-47ed-86d1-ea7e60ba20c7",
   "metadata": {
    "tags": []
   },
   "outputs": [],
   "source": [
    "sellers_df = sellers_df.withColumn('seller_zip_code_prefix',col('seller_zip_code_prefix').cast('string'))"
   ]
  },
  {
   "cell_type": "markdown",
   "id": "c9674e68-0616-4d32-a5c7-e09cff519ebd",
   "metadata": {
    "jp-MarkdownHeadingCollapsed": true,
    "tags": []
   },
   "source": [
    "## Refining datasets"
   ]
  },
  {
   "cell_type": "code",
   "execution_count": 71,
   "id": "da66db40-97bd-463e-8aee-2381aca8c7c7",
   "metadata": {
    "tags": []
   },
   "outputs": [],
   "source": [
    "payments_df = order_payments_df.withColumn('payment_type',when(col('payment_type')=='boleto','Bank Transfer')\n",
    "                                                     .when(col('payment_type')=='credit_card','Credit Card')\n",
    "                                                     .when(col('payment_type')=='debit_card','Debit Card')\n",
    "                                                    .otherwise('other'))"
   ]
  },
  {
   "cell_type": "code",
   "execution_count": 75,
   "id": "bafae6f2-ba75-4c08-ae90-eab01e6369c4",
   "metadata": {
    "tags": []
   },
   "outputs": [
    {
     "name": "stdout",
     "output_type": "stream",
     "text": [
      "+--------------------+------------------+-------------+--------------------+-------------+\n",
      "|            order_id|payment_sequential| payment_type|payment_installments|payment_value|\n",
      "+--------------------+------------------+-------------+--------------------+-------------+\n",
      "|b81ef226f3fe1789b...|                 1|  Credit Card|                   8|        99.33|\n",
      "|a9810da82917af2d9...|                 1|  Credit Card|                   1|        24.39|\n",
      "|25e8ea4e93396b6fa...|                 1|  Credit Card|                   1|        65.71|\n",
      "|ba78997921bbcdc13...|                 1|  Credit Card|                   8|       107.78|\n",
      "|42fdf880ba16b47b5...|                 1|  Credit Card|                   2|       128.45|\n",
      "|298fcdf1f73eb413e...|                 1|  Credit Card|                   2|        96.12|\n",
      "|771ee386b001f0620...|                 1|  Credit Card|                   1|        81.16|\n",
      "|3d7239c394a212faa...|                 1|  Credit Card|                   3|        51.84|\n",
      "|1f78449c87a54faf9...|                 1|  Credit Card|                   6|       341.09|\n",
      "|0573b5e23cbd79800...|                 1|Bank Transfer|                   1|        51.95|\n",
      "+--------------------+------------------+-------------+--------------------+-------------+\n",
      "only showing top 10 rows\n",
      "\n"
     ]
    }
   ],
   "source": [
    "payments_df.show(10)"
   ]
  },
  {
   "cell_type": "markdown",
   "id": "e078fc70-d5bd-4afc-a606-d3ab4f6d2972",
   "metadata": {
    "jp-MarkdownHeadingCollapsed": true,
    "tags": []
   },
   "source": [
    "## Removing duplicate records"
   ]
  },
  {
   "cell_type": "code",
   "execution_count": 74,
   "id": "b115f3d3-ac6f-4a35-be77-c5080e0934a5",
   "metadata": {
    "tags": []
   },
   "outputs": [],
   "source": [
    "customers_df = customers_df.dropDuplicates(['customer_id'])\n",
    "sellers_df = sellers_df.dropDuplicates(['seller_id'])\n",
    "products_df_cleaned = products_df_cleaned.dropDuplicates(['product_id'])\n",
    "orders_df_cleaned = orders_df_cleaned.dropDuplicates(['order_id'])\n",
    "reviews_df_cleaned = reviews_df_cleaned.dropDuplicates(['review_id'])"
   ]
  },
  {
   "cell_type": "markdown",
   "id": "b0327c3a-93f6-4118-afc5-ada16e54e686",
   "metadata": {
    "jp-MarkdownHeadingCollapsed": true,
    "tags": []
   },
   "source": [
    "## Optional EDA"
   ]
  },
  {
   "cell_type": "code",
   "execution_count": 77,
   "id": "a24f3e93-e0dd-4c5b-afc5-98543dd2e013",
   "metadata": {
    "tags": []
   },
   "outputs": [],
   "source": [
    "order_with_details = orders_df_cleaned.join(order_items_df,'order_id','left')\\\n",
    ".join(payments_df,'order_id','left')\\\n",
    ".join(customers_df,'customer_id','left')"
   ]
  },
  {
   "cell_type": "code",
   "execution_count": 78,
   "id": "ba3cfb49-30b0-4ee5-84b2-3170fa2d57fb",
   "metadata": {
    "tags": []
   },
   "outputs": [
    {
     "name": "stderr",
     "output_type": "stream",
     "text": [
      "                                                                                \r"
     ]
    },
    {
     "name": "stdout",
     "output_type": "stream",
     "text": [
      "+--------------------+--------------------+------------+------------------------+-------------------+----------------------------+-----------------------------+-----------------------------+-------------+--------------------+--------------------+-------------------+------+-------------+------------------+------------+--------------------+-------------+--------------------+------------------------+-------------+--------------+\n",
      "|         customer_id|            order_id|order_status|order_purchase_timestamp|  order_approved_at|order_delivered_carrier_date|order_delivered_customer_date|order_estimated_delivery_date|order_item_id|          product_id|           seller_id|shipping_limit_date| price|freight_value|payment_sequential|payment_type|payment_installments|payment_value|  customer_unique_id|customer_zip_code_prefix|customer_city|customer_state|\n",
      "+--------------------+--------------------+------------+------------------------+-------------------+----------------------------+-----------------------------+-----------------------------+-------------+--------------------+--------------------+-------------------+------+-------------+------------------+------------+--------------------+-------------+--------------------+------------------------+-------------+--------------+\n",
      "|6489ae5e4333f3693...|000229ec398224ef6...|   delivered|     2018-01-14 14:33:31|2018-01-14 14:48:30|         2018-01-16 12:36:48|          2018-01-22 13:19:16|          2018-02-05 00:00:00|            1|c777355d18b72b67a...|5b51032eddd242adc...|2018-01-18 14:48:30| 199.0|        17.87|                 1| Credit Card|                   5|       216.87|3818d81c6709e39d0...|                   35661|para de minas|            MG|\n",
      "|32e2e6ab09e778d99...|00054e8431b9d7675...|   delivered|     2017-12-10 11:53:48|2017-12-10 12:10:31|         2017-12-12 01:07:48|          2017-12-18 22:03:38|          2018-01-04 00:00:00|            1|8d4f2bb7e93e6710a...|7040e82f899a04d1b...|2017-12-14 12:10:31|  19.9|        11.85|                 1| Credit Card|                   1|        31.75|635d9ac1680f03288...|                   16700|   guararapes|            SP|\n",
      "|9ed5e522dd9dd85b4...|000576fe39319847c...|   delivered|     2018-07-04 12:08:27|2018-07-05 16:35:48|         2018-07-05 12:15:00|          2018-07-09 14:04:07|          2018-07-25 00:00:00|            1|557d850972a7d6f79...|5996cddab893a4652...|2018-07-10 12:30:45| 810.0|        70.75|                 1| Credit Card|                  10|       880.75|fda4476abb6307ab3...|                   11702| praia grande|            SP|\n",
      "|16150771dfd477626...|0005a1a1728c9d785...|   delivered|     2018-03-19 18:40:33|2018-03-20 18:35:21|         2018-03-28 00:37:42|          2018-03-29 18:17:31|          2018-03-29 00:00:00|            1|310ae3c140ff94b03...|a416b6a846a117243...|2018-03-26 18:31:29|145.95|        11.65|                 1| Credit Card|                   3|        157.6|639d23421f5517f69...|                   11075|       santos|            SP|\n",
      "|351d3cb2cee3c7fd0...|0005f50442cb953dc...|   delivered|     2018-07-02 13:59:39|2018-07-02 14:10:56|         2018-07-03 14:25:00|          2018-07-04 17:28:31|          2018-07-23 00:00:00|            1|4535b0e1091c278df...|ba143b05f0110f0dc...|2018-07-06 14:10:56| 53.99|         11.4|                 1| Credit Card|                   1|        65.39|0782c41380992a5a5...|                    6636|      jandira|            SP|\n",
      "+--------------------+--------------------+------------+------------------------+-------------------+----------------------------+-----------------------------+-----------------------------+-------------+--------------------+--------------------+-------------------+------+-------------+------------------+------------+--------------------+-------------+--------------------+------------------------+-------------+--------------+\n",
      "only showing top 5 rows\n",
      "\n"
     ]
    }
   ],
   "source": [
    "order_with_details.show(5)"
   ]
  },
  {
   "cell_type": "code",
   "execution_count": 80,
   "id": "a0b320d9-2f2d-44de-b8d2-bbe391936f0e",
   "metadata": {
    "tags": []
   },
   "outputs": [
    {
     "name": "stderr",
     "output_type": "stream",
     "text": [
      "                                                                                \r"
     ]
    },
    {
     "name": "stdout",
     "output_type": "stream",
     "text": [
      "+--------------------+-----------------+\n",
      "|            order_id|order_total_value|\n",
      "+--------------------+-----------------+\n",
      "|118045506e1c1dda0...|           1802.0|\n",
      "|f44cb69655f8e4d13...|           164.32|\n",
      "|edcc6b79e8394346b...|           162.63|\n",
      "|9f98d6530155e3b38...|           316.76|\n",
      "|949280c70c6d62ec9...|            49.42|\n",
      "+--------------------+-----------------+\n",
      "only showing top 5 rows\n",
      "\n"
     ]
    }
   ],
   "source": [
    "# order with highest value\n",
    "order_with_total_value = order_with_details.groupBy('order_id')\\\n",
    ".agg(sum('payment_value').alias('order_total_value'))\n",
    "order_with_total_value.show(5)"
   ]
  },
  {
   "cell_type": "code",
   "execution_count": 85,
   "id": "1eb13a43-b74d-423e-8840-d0a2446d652f",
   "metadata": {
    "tags": []
   },
   "outputs": [],
   "source": [
    "# 0.01% and 99.9%\n",
    "quantiles = order_items_df.approxQuantile('price',[0.001,0.999],0.0)\n",
    "low_cutoff,high_cutoff = quantiles[0],quantiles[1]"
   ]
  },
  {
   "cell_type": "code",
   "execution_count": 88,
   "id": "d20830c1-72c4-48a9-b092-218cea65c282",
   "metadata": {
    "tags": []
   },
   "outputs": [
    {
     "name": "stdout",
     "output_type": "stream",
     "text": [
      "0.01% and 99.9% of the orders fall between the range (4.99,2110.0)\n"
     ]
    }
   ],
   "source": [
    "print(f\"0.01% and 99.9% of the orders fall between the range ({low_cutoff},{high_cutoff})\")"
   ]
  },
  {
   "cell_type": "code",
   "execution_count": 89,
   "id": "934be63b-ff21-44fb-9bf0-e3d1093b4c5d",
   "metadata": {
    "tags": []
   },
   "outputs": [],
   "source": [
    "# assume the rest to be outliers\n",
    "order_item_df_wo_outliers = order_items_df.filter((col('price') >=low_cutoff) & (col('price') <=high_cutoff))"
   ]
  },
  {
   "cell_type": "code",
   "execution_count": 95,
   "id": "432062fd-1582-4549-9d33-5b3fe9411d7b",
   "metadata": {
    "tags": []
   },
   "outputs": [],
   "source": [
    "# classify into small medium large based on weight\n",
    "\n",
    "products_df_cleaned = products_df_cleaned.withColumn(\n",
    "    'product_weight_category',\n",
    "    when(col('product_weight_g') <500,'Light')\n",
    "    .when(col('product_weight_g').between(500,2000),'Medium')\n",
    "    .otherwise('Heavy')\n",
    ")"
   ]
  },
  {
   "cell_type": "code",
   "execution_count": 98,
   "id": "adab0f27-992c-455a-a30a-b08c69e0ea67",
   "metadata": {
    "tags": []
   },
   "outputs": [
    {
     "name": "stdout",
     "output_type": "stream",
     "text": [
      "+--------------------+---------------------+-------------------+--------------------------+------------------+----------------+-----------------+-----------------+----------------+-----------------------+\n",
      "|          product_id|product_category_name|product_name_lenght|product_description_lenght|product_photos_qty|product_weight_g|product_length_cm|product_height_cm|product_width_cm|product_weight_category|\n",
      "+--------------------+---------------------+-------------------+--------------------------+------------------+----------------+-----------------+-----------------+----------------+-----------------------+\n",
      "|00066f42aeeb9f300...|           perfumaria|                 53|                       596|                 6|             300|               20|               16|              16|                  Light|\n",
      "|00088930e925c41fd...|           automotivo|                 56|                       752|                 4|            1225|               55|               10|              26|                 Medium|\n",
      "|000d9be29b5207b54...|   relogios_presentes|                 48|                       613|                 4|             250|               22|               11|              15|                  Light|\n",
      "|0011c512eb256aa0d...|           automotivo|                 58|                       177|                 1|             100|               16|               15|              16|                  Light|\n",
      "|001795ec6f1b187d3...|       consoles_games|                 53|                       274|                 1|             600|               30|               20|              20|                 Medium|\n",
      "+--------------------+---------------------+-------------------+--------------------------+------------------+----------------+-----------------+-----------------+----------------+-----------------------+\n",
      "only showing top 5 rows\n",
      "\n"
     ]
    }
   ],
   "source": [
    "products_df_cleaned.show(5)"
   ]
  },
  {
   "cell_type": "code",
   "execution_count": 100,
   "id": "71b6407e-8b26-43ca-8ec1-9dfc09420b5a",
   "metadata": {
    "tags": []
   },
   "outputs": [
    {
     "name": "stdout",
     "output_type": "stream",
     "text": [
      "+--------------------+------------------+\n",
      "|           seller_id|       total_sales|\n",
      "+--------------------+------------------+\n",
      "|4869f7a5dfa277a7d...|229472.62999999913|\n",
      "|53243585a1d6dc264...| 222776.0499999998|\n",
      "|4a3ca9315b744ce9f...| 200472.9199999981|\n",
      "|7c67e1448b00f6e96...|187923.89000000118|\n",
      "|fa1c13f2614d7b5c4...| 187043.1299999997|\n",
      "+--------------------+------------------+\n",
      "only showing top 5 rows\n",
      "\n"
     ]
    }
   ],
   "source": [
    "sales_per_seller = order_item_df_wo_outliers.groupBy('seller_id').agg(sum(\"price\").alias('total_sales')).orderBy('total_sales', ascending  = False)\n",
    "sales_per_seller.show(5)"
   ]
  },
  {
   "cell_type": "markdown",
   "id": "7b799d6a-470f-42b1-a4f6-b7095f1720b7",
   "metadata": {
    "tags": []
   },
   "source": [
    "## Saving the cleaned files"
   ]
  },
  {
   "cell_type": "code",
   "execution_count": 114,
   "id": "9ba6a0ad-e0e9-4524-a662-5e222eb08df4",
   "metadata": {
    "tags": []
   },
   "outputs": [],
   "source": [
    "!hadoop fs -mkdir /data/olist/olist_cleaned"
   ]
  },
  {
   "cell_type": "code",
   "execution_count": 115,
   "id": "81d5932e-903f-4d11-90b5-6712af9a601d",
   "metadata": {
    "tags": []
   },
   "outputs": [
    {
     "name": "stderr",
     "output_type": "stream",
     "text": [
      "                                                                                \r"
     ]
    }
   ],
   "source": [
    "payments_df.write.mode('overwrite').parquet('/data/olist/olist_cleaned/payments_df_processed')\n",
    "geolocation_df.write.mode('overwrite').parquet('/data/olist/olist_cleaned/geolocation_df_processed')\n",
    "order_items_df.write.mode('overwrite').parquet('/data/olist/olist_cleaned/order_items_df_processed')\n",
    "products_df_cleaned.write.mode('overwrite').parquet('/data/olist/olist_cleaned/products_df_processed')\n",
    "reviews_df_cleaned.write.mode('overwrite').parquet('/data/olist/olist_cleaned/reviews_df_processed')\n",
    "orders_df_cleaned.write.mode('overwrite').parquet('/data/olist/olist_cleaned/orders_df_processed')\n",
    "customers_df.write.mode('overwrite').parquet('/data/olist/olist_cleaned/customers_df_processed')\n",
    "sellers_df.write.mode('overwrite').parquet('/data/olist/olist_cleaned/sellers_df_processed')"
   ]
  },
  {
   "cell_type": "code",
   "execution_count": 119,
   "id": "9c16d046-9498-43a0-b83f-855dab559c90",
   "metadata": {
    "tags": []
   },
   "outputs": [
    {
     "name": "stdout",
     "output_type": "stream",
     "text": [
      "root\n",
      " |-- order_id: string (nullable = true)\n",
      " |-- customer_id: string (nullable = true)\n",
      " |-- order_status: string (nullable = true)\n",
      " |-- order_purchase_timestamp: timestamp (nullable = true)\n",
      " |-- order_approved_at: timestamp (nullable = true)\n",
      " |-- order_delivered_carrier_date: timestamp (nullable = true)\n",
      " |-- order_delivered_customer_date: timestamp (nullable = true)\n",
      " |-- order_estimated_delivery_date: timestamp (nullable = true)\n",
      "\n"
     ]
    }
   ],
   "source": [
    "orders_df_cleaned.printSchema()"
   ]
  },
  {
   "cell_type": "raw",
   "id": "7953dcb7-cbc8-4876-9e5c-035546877aa9",
   "metadata": {
    "tags": []
   },
   "source": [
    "# run this command in hive to create a hive table\n",
    "\n",
    "\"\"\"CREATE EXTERNAL TABLE products_processed(\n",
    "    product_id STRING,\n",
    "    product_category_name STRING,\n",
    "    product_name_lenght STRING,\n",
    "    product_description_lenght INT,\n",
    "    product_photos_qty INT,\n",
    "    product_weight_g INT,\n",
    "    product_length_cm INT,\n",
    "    product_height_cm INT,\n",
    "    product_width_cm INT,\n",
    "    product_weight_category STRING\n",
    ")\n",
    "STORED AS PARQUET\n",
    "LOCATION '/data/olist/olist_cleaned/products_df_processed';\"\"\"\n",
    "\n",
    "# do this for rest dataframes"
   ]
  },
  {
   "cell_type": "code",
   "execution_count": null,
   "id": "abcaf23f-03ae-4d7c-9ead-24c957e09768",
   "metadata": {},
   "outputs": [],
   "source": []
  }
 ],
 "metadata": {
  "kernelspec": {
   "display_name": "PySpark",
   "language": "python",
   "name": "pyspark"
  },
  "language_info": {
   "codemirror_mode": {
    "name": "ipython",
    "version": 3
   },
   "file_extension": ".py",
   "mimetype": "text/x-python",
   "name": "python",
   "nbconvert_exporter": "python",
   "pygments_lexer": "ipython3",
   "version": "3.11.8"
  }
 },
 "nbformat": 4,
 "nbformat_minor": 5
}
